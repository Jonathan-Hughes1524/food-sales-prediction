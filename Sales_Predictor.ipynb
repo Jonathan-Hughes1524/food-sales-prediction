{
  "nbformat": 4,
  "nbformat_minor": 0,
  "metadata": {
    "colab": {
      "name": "Sales Predictor",
      "provenance": [],
      "authorship_tag": "ABX9TyN0+K36b8aAOApgxhL1xO55",
      "include_colab_link": true
    },
    "kernelspec": {
      "name": "python3",
      "display_name": "Python 3"
    },
    "language_info": {
      "name": "python"
    }
  },
  "cells": [
    {
      "cell_type": "markdown",
      "metadata": {
        "id": "view-in-github",
        "colab_type": "text"
      },
      "source": [
        "<a href=\"https://colab.research.google.com/github/Jonathan-Hughes1524/food-sales-prediction/blob/main/Sales_Predictor.ipynb\" target=\"_parent\"><img src=\"https://colab.research.google.com/assets/colab-badge.svg\" alt=\"Open In Colab\"/></a>"
      ]
    },
    {
      "cell_type": "code",
      "execution_count": 1,
      "metadata": {
        "colab": {
          "base_uri": "https://localhost:8080/"
        },
        "id": "SEnnsuZ5aDBW",
        "outputId": "af89cb0c-5eb6-4d4f-b873-a94183ddb61b"
      },
      "outputs": [
        {
          "output_type": "stream",
          "name": "stdout",
          "text": [
            "Mounted at /content/drive\n"
          ]
        }
      ],
      "source": [
        "from google.colab import drive\n",
        "drive.mount('/content/drive')"
      ]
    },
    {
      "cell_type": "code",
      "source": [
        "import pandas as pd"
      ],
      "metadata": {
        "id": "C-KtxsEaal3M"
      },
      "execution_count": 2,
      "outputs": []
    },
    {
      "cell_type": "code",
      "source": [
        "filename = '/content/drive/MyDrive/Coding Dojo/01 Week 1: Python/sales_predictions (1).csv'\n",
        "df = pd.read_csv(filename)\n",
        "df.head()"
      ],
      "metadata": {
        "colab": {
          "base_uri": "https://localhost:8080/",
          "height": 357
        },
        "id": "7vMYGvJ4auch",
        "outputId": "7ae6998c-2dfe-459d-9adc-f043e4af5dca"
      },
      "execution_count": 3,
      "outputs": [
        {
          "output_type": "execute_result",
          "data": {
            "text/plain": [
              "  Item_Identifier  Item_Weight Item_Fat_Content  Item_Visibility  \\\n",
              "0           FDA15         9.30          Low Fat         0.016047   \n",
              "1           DRC01         5.92          Regular         0.019278   \n",
              "2           FDN15        17.50          Low Fat         0.016760   \n",
              "3           FDX07        19.20          Regular         0.000000   \n",
              "4           NCD19         8.93          Low Fat         0.000000   \n",
              "\n",
              "               Item_Type  Item_MRP Outlet_Identifier  \\\n",
              "0                  Dairy  249.8092            OUT049   \n",
              "1            Soft Drinks   48.2692            OUT018   \n",
              "2                   Meat  141.6180            OUT049   \n",
              "3  Fruits and Vegetables  182.0950            OUT010   \n",
              "4              Household   53.8614            OUT013   \n",
              "\n",
              "   Outlet_Establishment_Year Outlet_Size Outlet_Location_Type  \\\n",
              "0                       1999      Medium               Tier 1   \n",
              "1                       2009      Medium               Tier 3   \n",
              "2                       1999      Medium               Tier 1   \n",
              "3                       1998         NaN               Tier 3   \n",
              "4                       1987        High               Tier 3   \n",
              "\n",
              "         Outlet_Type  Item_Outlet_Sales  \n",
              "0  Supermarket Type1          3735.1380  \n",
              "1  Supermarket Type2           443.4228  \n",
              "2  Supermarket Type1          2097.2700  \n",
              "3      Grocery Store           732.3800  \n",
              "4  Supermarket Type1           994.7052  "
            ],
            "text/html": [
              "\n",
              "  <div id=\"df-9a0f3db9-4c5b-447b-92cb-9129a2e24a0c\">\n",
              "    <div class=\"colab-df-container\">\n",
              "      <div>\n",
              "<style scoped>\n",
              "    .dataframe tbody tr th:only-of-type {\n",
              "        vertical-align: middle;\n",
              "    }\n",
              "\n",
              "    .dataframe tbody tr th {\n",
              "        vertical-align: top;\n",
              "    }\n",
              "\n",
              "    .dataframe thead th {\n",
              "        text-align: right;\n",
              "    }\n",
              "</style>\n",
              "<table border=\"1\" class=\"dataframe\">\n",
              "  <thead>\n",
              "    <tr style=\"text-align: right;\">\n",
              "      <th></th>\n",
              "      <th>Item_Identifier</th>\n",
              "      <th>Item_Weight</th>\n",
              "      <th>Item_Fat_Content</th>\n",
              "      <th>Item_Visibility</th>\n",
              "      <th>Item_Type</th>\n",
              "      <th>Item_MRP</th>\n",
              "      <th>Outlet_Identifier</th>\n",
              "      <th>Outlet_Establishment_Year</th>\n",
              "      <th>Outlet_Size</th>\n",
              "      <th>Outlet_Location_Type</th>\n",
              "      <th>Outlet_Type</th>\n",
              "      <th>Item_Outlet_Sales</th>\n",
              "    </tr>\n",
              "  </thead>\n",
              "  <tbody>\n",
              "    <tr>\n",
              "      <th>0</th>\n",
              "      <td>FDA15</td>\n",
              "      <td>9.30</td>\n",
              "      <td>Low Fat</td>\n",
              "      <td>0.016047</td>\n",
              "      <td>Dairy</td>\n",
              "      <td>249.8092</td>\n",
              "      <td>OUT049</td>\n",
              "      <td>1999</td>\n",
              "      <td>Medium</td>\n",
              "      <td>Tier 1</td>\n",
              "      <td>Supermarket Type1</td>\n",
              "      <td>3735.1380</td>\n",
              "    </tr>\n",
              "    <tr>\n",
              "      <th>1</th>\n",
              "      <td>DRC01</td>\n",
              "      <td>5.92</td>\n",
              "      <td>Regular</td>\n",
              "      <td>0.019278</td>\n",
              "      <td>Soft Drinks</td>\n",
              "      <td>48.2692</td>\n",
              "      <td>OUT018</td>\n",
              "      <td>2009</td>\n",
              "      <td>Medium</td>\n",
              "      <td>Tier 3</td>\n",
              "      <td>Supermarket Type2</td>\n",
              "      <td>443.4228</td>\n",
              "    </tr>\n",
              "    <tr>\n",
              "      <th>2</th>\n",
              "      <td>FDN15</td>\n",
              "      <td>17.50</td>\n",
              "      <td>Low Fat</td>\n",
              "      <td>0.016760</td>\n",
              "      <td>Meat</td>\n",
              "      <td>141.6180</td>\n",
              "      <td>OUT049</td>\n",
              "      <td>1999</td>\n",
              "      <td>Medium</td>\n",
              "      <td>Tier 1</td>\n",
              "      <td>Supermarket Type1</td>\n",
              "      <td>2097.2700</td>\n",
              "    </tr>\n",
              "    <tr>\n",
              "      <th>3</th>\n",
              "      <td>FDX07</td>\n",
              "      <td>19.20</td>\n",
              "      <td>Regular</td>\n",
              "      <td>0.000000</td>\n",
              "      <td>Fruits and Vegetables</td>\n",
              "      <td>182.0950</td>\n",
              "      <td>OUT010</td>\n",
              "      <td>1998</td>\n",
              "      <td>NaN</td>\n",
              "      <td>Tier 3</td>\n",
              "      <td>Grocery Store</td>\n",
              "      <td>732.3800</td>\n",
              "    </tr>\n",
              "    <tr>\n",
              "      <th>4</th>\n",
              "      <td>NCD19</td>\n",
              "      <td>8.93</td>\n",
              "      <td>Low Fat</td>\n",
              "      <td>0.000000</td>\n",
              "      <td>Household</td>\n",
              "      <td>53.8614</td>\n",
              "      <td>OUT013</td>\n",
              "      <td>1987</td>\n",
              "      <td>High</td>\n",
              "      <td>Tier 3</td>\n",
              "      <td>Supermarket Type1</td>\n",
              "      <td>994.7052</td>\n",
              "    </tr>\n",
              "  </tbody>\n",
              "</table>\n",
              "</div>\n",
              "      <button class=\"colab-df-convert\" onclick=\"convertToInteractive('df-9a0f3db9-4c5b-447b-92cb-9129a2e24a0c')\"\n",
              "              title=\"Convert this dataframe to an interactive table.\"\n",
              "              style=\"display:none;\">\n",
              "        \n",
              "  <svg xmlns=\"http://www.w3.org/2000/svg\" height=\"24px\"viewBox=\"0 0 24 24\"\n",
              "       width=\"24px\">\n",
              "    <path d=\"M0 0h24v24H0V0z\" fill=\"none\"/>\n",
              "    <path d=\"M18.56 5.44l.94 2.06.94-2.06 2.06-.94-2.06-.94-.94-2.06-.94 2.06-2.06.94zm-11 1L8.5 8.5l.94-2.06 2.06-.94-2.06-.94L8.5 2.5l-.94 2.06-2.06.94zm10 10l.94 2.06.94-2.06 2.06-.94-2.06-.94-.94-2.06-.94 2.06-2.06.94z\"/><path d=\"M17.41 7.96l-1.37-1.37c-.4-.4-.92-.59-1.43-.59-.52 0-1.04.2-1.43.59L10.3 9.45l-7.72 7.72c-.78.78-.78 2.05 0 2.83L4 21.41c.39.39.9.59 1.41.59.51 0 1.02-.2 1.41-.59l7.78-7.78 2.81-2.81c.8-.78.8-2.07 0-2.86zM5.41 20L4 18.59l7.72-7.72 1.47 1.35L5.41 20z\"/>\n",
              "  </svg>\n",
              "      </button>\n",
              "      \n",
              "  <style>\n",
              "    .colab-df-container {\n",
              "      display:flex;\n",
              "      flex-wrap:wrap;\n",
              "      gap: 12px;\n",
              "    }\n",
              "\n",
              "    .colab-df-convert {\n",
              "      background-color: #E8F0FE;\n",
              "      border: none;\n",
              "      border-radius: 50%;\n",
              "      cursor: pointer;\n",
              "      display: none;\n",
              "      fill: #1967D2;\n",
              "      height: 32px;\n",
              "      padding: 0 0 0 0;\n",
              "      width: 32px;\n",
              "    }\n",
              "\n",
              "    .colab-df-convert:hover {\n",
              "      background-color: #E2EBFA;\n",
              "      box-shadow: 0px 1px 2px rgba(60, 64, 67, 0.3), 0px 1px 3px 1px rgba(60, 64, 67, 0.15);\n",
              "      fill: #174EA6;\n",
              "    }\n",
              "\n",
              "    [theme=dark] .colab-df-convert {\n",
              "      background-color: #3B4455;\n",
              "      fill: #D2E3FC;\n",
              "    }\n",
              "\n",
              "    [theme=dark] .colab-df-convert:hover {\n",
              "      background-color: #434B5C;\n",
              "      box-shadow: 0px 1px 3px 1px rgba(0, 0, 0, 0.15);\n",
              "      filter: drop-shadow(0px 1px 2px rgba(0, 0, 0, 0.3));\n",
              "      fill: #FFFFFF;\n",
              "    }\n",
              "  </style>\n",
              "\n",
              "      <script>\n",
              "        const buttonEl =\n",
              "          document.querySelector('#df-9a0f3db9-4c5b-447b-92cb-9129a2e24a0c button.colab-df-convert');\n",
              "        buttonEl.style.display =\n",
              "          google.colab.kernel.accessAllowed ? 'block' : 'none';\n",
              "\n",
              "        async function convertToInteractive(key) {\n",
              "          const element = document.querySelector('#df-9a0f3db9-4c5b-447b-92cb-9129a2e24a0c');\n",
              "          const dataTable =\n",
              "            await google.colab.kernel.invokeFunction('convertToInteractive',\n",
              "                                                     [key], {});\n",
              "          if (!dataTable) return;\n",
              "\n",
              "          const docLinkHtml = 'Like what you see? Visit the ' +\n",
              "            '<a target=\"_blank\" href=https://colab.research.google.com/notebooks/data_table.ipynb>data table notebook</a>'\n",
              "            + ' to learn more about interactive tables.';\n",
              "          element.innerHTML = '';\n",
              "          dataTable['output_type'] = 'display_data';\n",
              "          await google.colab.output.renderOutput(dataTable, element);\n",
              "          const docLink = document.createElement('div');\n",
              "          docLink.innerHTML = docLinkHtml;\n",
              "          element.appendChild(docLink);\n",
              "        }\n",
              "      </script>\n",
              "    </div>\n",
              "  </div>\n",
              "  "
            ]
          },
          "metadata": {},
          "execution_count": 3
        }
      ]
    },
    {
      "cell_type": "markdown",
      "source": [
        "Data Cleaning"
      ],
      "metadata": {
        "id": "-lJ12JC3nCqt"
      }
    },
    {
      "cell_type": "code",
      "source": [
        "df.info()"
      ],
      "metadata": {
        "id": "0EtWTgHDbDzD",
        "colab": {
          "base_uri": "https://localhost:8080/"
        },
        "outputId": "56b82fbb-f032-457b-b74f-33c47307d304"
      },
      "execution_count": 4,
      "outputs": [
        {
          "output_type": "stream",
          "name": "stdout",
          "text": [
            "<class 'pandas.core.frame.DataFrame'>\n",
            "RangeIndex: 8523 entries, 0 to 8522\n",
            "Data columns (total 12 columns):\n",
            " #   Column                     Non-Null Count  Dtype  \n",
            "---  ------                     --------------  -----  \n",
            " 0   Item_Identifier            8523 non-null   object \n",
            " 1   Item_Weight                7060 non-null   float64\n",
            " 2   Item_Fat_Content           8523 non-null   object \n",
            " 3   Item_Visibility            8523 non-null   float64\n",
            " 4   Item_Type                  8523 non-null   object \n",
            " 5   Item_MRP                   8523 non-null   float64\n",
            " 6   Outlet_Identifier          8523 non-null   object \n",
            " 7   Outlet_Establishment_Year  8523 non-null   int64  \n",
            " 8   Outlet_Size                6113 non-null   object \n",
            " 9   Outlet_Location_Type       8523 non-null   object \n",
            " 10  Outlet_Type                8523 non-null   object \n",
            " 11  Item_Outlet_Sales          8523 non-null   float64\n",
            "dtypes: float64(4), int64(1), object(7)\n",
            "memory usage: 799.2+ KB\n"
          ]
        }
      ]
    },
    {
      "cell_type": "code",
      "source": [
        "df.duplicated().sum()"
      ],
      "metadata": {
        "colab": {
          "base_uri": "https://localhost:8080/"
        },
        "id": "o6ThIXykek6B",
        "outputId": "e0b4c1ba-25f8-474b-e610-10aeb5e715ae"
      },
      "execution_count": 5,
      "outputs": [
        {
          "output_type": "execute_result",
          "data": {
            "text/plain": [
              "0"
            ]
          },
          "metadata": {},
          "execution_count": 5
        }
      ]
    },
    {
      "cell_type": "code",
      "source": [
        "df.isna().sum()"
      ],
      "metadata": {
        "colab": {
          "base_uri": "https://localhost:8080/"
        },
        "id": "rLC-YMTqfkVV",
        "outputId": "8a7b519f-6783-473e-b96e-1fa60ec2babd"
      },
      "execution_count": 6,
      "outputs": [
        {
          "output_type": "execute_result",
          "data": {
            "text/plain": [
              "Item_Identifier                 0\n",
              "Item_Weight                  1463\n",
              "Item_Fat_Content                0\n",
              "Item_Visibility                 0\n",
              "Item_Type                       0\n",
              "Item_MRP                        0\n",
              "Outlet_Identifier               0\n",
              "Outlet_Establishment_Year       0\n",
              "Outlet_Size                  2410\n",
              "Outlet_Location_Type            0\n",
              "Outlet_Type                     0\n",
              "Item_Outlet_Sales               0\n",
              "dtype: int64"
            ]
          },
          "metadata": {},
          "execution_count": 6
        }
      ]
    },
    {
      "cell_type": "markdown",
      "source": [
        "For the Item_Weight I chose to take the average weight of the items. I felt with the data that was already known this would give a good data to fill the missing. I did not want to drop this data becasue shipping costs would affect the price of the product. Which in turn could affect the sales of the product.\n",
        "I also chose do the msot frequent for the store size. The size of the store could impact the amount sold. "
      ],
      "metadata": {
        "id": "SzGAsoAo6HdG"
      }
    },
    {
      "cell_type": "code",
      "source": [
        "item_weight_mean = df['Item_Weight'].mean()\n",
        "df['Item_Weight'].fillna(item_weight_mean, inplace = True)\n",
        "df.isna().sum()"
      ],
      "metadata": {
        "colab": {
          "base_uri": "https://localhost:8080/"
        },
        "id": "SIhGU7av59Dt",
        "outputId": "ad56891f-4014-4558-bf8e-c25b74d63aba"
      },
      "execution_count": 7,
      "outputs": [
        {
          "output_type": "execute_result",
          "data": {
            "text/plain": [
              "Item_Identifier                 0\n",
              "Item_Weight                     0\n",
              "Item_Fat_Content                0\n",
              "Item_Visibility                 0\n",
              "Item_Type                       0\n",
              "Item_MRP                        0\n",
              "Outlet_Identifier               0\n",
              "Outlet_Establishment_Year       0\n",
              "Outlet_Size                  2410\n",
              "Outlet_Location_Type            0\n",
              "Outlet_Type                     0\n",
              "Item_Outlet_Sales               0\n",
              "dtype: int64"
            ]
          },
          "metadata": {},
          "execution_count": 7
        }
      ]
    },
    {
      "cell_type": "code",
      "source": [
        "outlet_size_mode = df['Outlet_Size'].mode()\n",
        "df['Outlet_Size'].fillna(outlet_size_mode, inplace = True)\n",
        "df.isna().sum()"
      ],
      "metadata": {
        "colab": {
          "base_uri": "https://localhost:8080/"
        },
        "id": "zcHZx1ocmCuB",
        "outputId": "e827287a-9953-4e8d-ac65-fdb7a446b2f0"
      },
      "execution_count": 12,
      "outputs": [
        {
          "output_type": "execute_result",
          "data": {
            "text/plain": [
              "Item_Identifier                 0\n",
              "Item_Weight                     0\n",
              "Item_Fat_Content                0\n",
              "Item_Visibility                 0\n",
              "Item_Type                       0\n",
              "Item_MRP                        0\n",
              "Outlet_Identifier               0\n",
              "Outlet_Establishment_Year       0\n",
              "Outlet_Size                  2410\n",
              "Outlet_Location_Type            0\n",
              "Outlet_Type                     0\n",
              "Item_Outlet_Sales               0\n",
              "dtype: int64"
            ]
          },
          "metadata": {},
          "execution_count": 12
        }
      ]
    },
    {
      "cell_type": "code",
      "source": [
        "df['Item_Fat_Content'] = df['Item_Fat_Content'].replace('LF', 'Low Fat')\n",
        "df['Item_Fat_Content'] = df['Item_Fat_Content'].replace('low fat', 'Low Fat')\n",
        "df['Item_Fat_Content'] = df['Item_Fat_Content'].replace('reg', 'Regular')\n",
        "df['Item_Fat_Content'].value_counts()"
      ],
      "metadata": {
        "colab": {
          "base_uri": "https://localhost:8080/"
        },
        "id": "v8l3UGrQoLux",
        "outputId": "354ec717-c4ba-48a6-a85b-ee545e2c1324"
      },
      "execution_count": 13,
      "outputs": [
        {
          "output_type": "execute_result",
          "data": {
            "text/plain": [
              "Low Fat    5517\n",
              "Regular    3006\n",
              "Name: Item_Fat_Content, dtype: int64"
            ]
          },
          "metadata": {},
          "execution_count": 13
        }
      ]
    },
    {
      "cell_type": "code",
      "source": [
        "df.info()"
      ],
      "metadata": {
        "colab": {
          "base_uri": "https://localhost:8080/"
        },
        "id": "p-OXeIh7otcZ",
        "outputId": "d7ed2851-a410-4e89-c71a-f2c4d4b7359e"
      },
      "execution_count": 14,
      "outputs": [
        {
          "output_type": "stream",
          "name": "stdout",
          "text": [
            "<class 'pandas.core.frame.DataFrame'>\n",
            "RangeIndex: 8523 entries, 0 to 8522\n",
            "Data columns (total 12 columns):\n",
            " #   Column                     Non-Null Count  Dtype  \n",
            "---  ------                     --------------  -----  \n",
            " 0   Item_Identifier            8523 non-null   object \n",
            " 1   Item_Weight                8523 non-null   float64\n",
            " 2   Item_Fat_Content           8523 non-null   object \n",
            " 3   Item_Visibility            8523 non-null   float64\n",
            " 4   Item_Type                  8523 non-null   object \n",
            " 5   Item_MRP                   8523 non-null   float64\n",
            " 6   Outlet_Identifier          8523 non-null   object \n",
            " 7   Outlet_Establishment_Year  8523 non-null   int64  \n",
            " 8   Outlet_Size                6113 non-null   object \n",
            " 9   Outlet_Location_Type       8523 non-null   object \n",
            " 10  Outlet_Type                8523 non-null   object \n",
            " 11  Item_Outlet_Sales          8523 non-null   float64\n",
            "dtypes: float64(4), int64(1), object(7)\n",
            "memory usage: 799.2+ KB\n"
          ]
        }
      ]
    },
    {
      "cell_type": "code",
      "source": [
        "df.groupby(['Item_Weight', 'Item_Visibility','Item_MRP','Outlet_Establishment_Year','Outlet_Size','Item_Outlet_Sales']).min()\n",
        "df.groupby(['Item_Weight', 'Item_Visibility','Item_MRP','Outlet_Establishment_Year','Outlet_Size','Item_Outlet_Sales']).max()\n",
        "df.groupby(['Item_Weight', 'Item_Visibility','Item_MRP','Outlet_Establishment_Year','Outlet_Size','Item_Outlet_Sales']).mean()"
      ],
      "metadata": {
        "colab": {
          "base_uri": "https://localhost:8080/",
          "height": 494
        },
        "id": "jededaA83V6Q",
        "outputId": "2a226bec-b679-4cf1-b281-c774ddaf8f1c"
      },
      "execution_count": 15,
      "outputs": [
        {
          "output_type": "stream",
          "name": "stderr",
          "text": [
            "/usr/local/lib/python3.7/dist-packages/IPython/core/interactiveshell.py:2882: FutureWarning: Dropping invalid columns in DataFrameGroupBy.mean is deprecated. In a future version, a TypeError will be raised. Before calling .mean, select only columns which should be valid for the function.\n",
            "  exec(code_obj, self.user_global_ns, self.user_ns)\n"
          ]
        },
        {
          "output_type": "execute_result",
          "data": {
            "text/plain": [
              "Empty DataFrame\n",
              "Columns: []\n",
              "Index: [(4.555, 0.034328578, 110.1544, 1987, High, 1230.3984), (4.555, 0.034350673, 112.7544, 2004, Small, 1789.6704), (4.555, 0.034357169, 112.6544, 1997, Small, 2684.5056), (4.555, 0.034410585, 111.3544, 1999, Medium, 1342.2528), (4.59, 0.070721656, 113.286, 1987, High, 1471.418), (4.59, 0.070767174, 111.986, 2004, Small, 792.302), (4.59, 0.070780558, 114.586, 1997, Small, 1245.046), (4.59, 0.070890602, 111.686, 1999, Medium, 1584.604), (4.61, 0.0, 173.8396, 1997, Small, 1221.0772), (4.61, 0.122629121, 175.4396, 2004, Small, 2616.594), (4.61, 0.122843005, 172.4396, 1999, Medium, 1569.9564), (4.61, 0.123151947, 175.2396, 2009, Medium, 2093.2752), (4.615, 0.101747034, 231.33, 1987, High, 4660.6), (4.615, 0.101812521, 232.23, 2004, Small, 5126.66), (4.635, 0.14086247, 126.4994, 2004, Small, 1670.4922), (4.635, 0.140889111, 127.0994, 1997, Small, 1927.491), (4.635, 0.141108156, 128.2994, 1999, Medium, 2698.4874), (4.785, 0.092516598, 120.1098, 1987, High, 1325.6078), (4.785, 0.092576144, 121.0098, 2004, Small, 2530.7058), (4.785, 0.09297084, 122.0098, 2009, Medium, 2048.6666), (4.805, 0.037668051, 126.7704, 1987, High, 2628.5784), (4.805, 0.037699423, 125.5704, 1997, Small, 3880.2824), (4.805, 0.037852995, 126.2704, 2009, Medium, 3629.9416), (4.88, 0.0, 53.1298, 2004, Small, 808.947), (4.88, 0.133382115, 55.0298, 1987, High, 647.1576), (4.88, 0.133700752, 52.9298, 1999, Medium, 1995.4026), (4.88, 0.134037, 53.3298, 2009, Medium, 539.298), (4.905, 0.117308165, 195.7768, 2004, Small, 2956.152), (4.92, 0.045916788, 198.8084, 1987, High, 2976.126), (4.92, 0.045955031, 199.1084, 1997, Small, 2182.4924), (4.92, 0.046026479, 196.5084, 1999, Medium, 3769.7596), (4.92, 0.046142232, 199.1084, 2009, Medium, 4761.8016), (5.0, 0.044004675, 188.853, 1997, Small, 5502.837), (5.03, 0.008639333, 122.2756, 1987, High, 2059.9852), (5.03, 0.008644894, 122.6756, 2004, Small, 2665.8632), (5.035, 0.0, 228.2036, 1997, Small, 4781.7756), (5.035, 0.079844043, 226.3036, 1987, High, 4098.6648), (5.095, 0.129395895, 140.3838, 1987, High, 1826.2894), (5.095, 0.129479176, 139.7838, 2004, Small, 1264.3542), (5.095, 0.129705008, 141.8838, 1999, Medium, 1966.7732), (5.095, 0.130031207, 142.4838, 2009, Medium, 561.9352), (5.11, 0.0, 164.721, 2009, Medium, 3588.662), (5.11, 0.034868095, 163.821, 2004, Small, 2120.573), (5.11, 0.034874689, 161.721, 1997, Small, 2446.815), (5.15, 0.06112617, 122.5388, 1987, High, 371.5164), (5.15, 0.061165512, 125.6388, 2004, Small, 2848.2924), (5.15, 0.06117708, 121.8388, 1997, Small, 3219.8088), (5.15, 0.061272194, 125.6388, 1999, Medium, 1733.7432), (5.155, 0.083198341, 246.0776, 1997, Small, 990.7104), (5.155, 0.083327693, 247.2776, 1999, Medium, 5944.2624), (5.175, 0.029471408, 105.4622, 1987, High, 3281.7282), (5.175, 0.029490377, 107.6622, 2004, Small, 2858.2794), (5.175, 0.029616108, 107.7622, 2009, Medium, 2011.3818), (5.175, 0.030330202, 35.4874, 1987, High, 388.1614), (5.175, 0.030349723, 37.0874, 2004, Small, 423.4488), (5.175, 0.030479118, 33.2874, 2009, Medium, 635.1732), (5.175, 0.03736783, 86.9224, 1987, High, 255.6672), (5.175, 0.037391881, 83.2224, 2004, Small, 1789.6704), (5.175, 0.037398953, 84.2224, 1997, Small, 852.224), (5.175, 0.037457098, 83.4224, 1999, Medium, 1448.7808), (5.19, 0.042687151, 195.911, 1999, Medium, 2946.165), (5.19, 0.044252621, 102.599, 1997, Small, 1651.184), (5.19, 0.044321422, 103.899, 1999, Medium, 2889.572), (5.19, 0.044432887, 102.899, 2009, Medium, 1651.184), (5.21, 0.011007815, 259.5962, 2004, Small, 2848.9582), (5.26, 0.02454694, 95.7068, 1999, Medium, 1166.4816), (5.26, 0.041764487, 161.8868, 2004, Small, 3275.736), (5.26, 0.041837331, 161.8868, 1999, Medium, 5077.3908), (5.26, 0.041942549, 165.4868, 2009, Medium, 2293.0152), (5.305, 0.04710181, 181.8608, 1999, Medium, 4594.02), (5.305, 0.047220268, 181.9608, 2009, Medium, 2388.8904), (5.32, 0.0, 101.7674, 1987, High, 1120.5414), (5.32, 0.092865746, 100.6674, 2004, Small, 2648.5524), (5.32, 0.093027718, 101.4674, 1999, Medium, 2954.1546), (5.32, 0.093261677, 100.9674, 2009, Medium, 1222.4088), (5.325, 0.0, 55.8298, 2004, Small, 485.3682), (5.325, 0.138679995, 53.7298, 1997, Small, 862.8768), (5.325, 0.139244918, 53.0298, 2009, Medium, 377.5086), (5.34, 0.005958918, 101.6358, 1987, High, 1709.1086), (5.34, 0.005962753, 102.4358, 2004, Small, 2010.716), (5.34, 0.005963881, 99.5358, 1997, Small, 1407.5012), (5.365, 0.140123575, 172.0764, 1987, High, 2748.4224), (5.365, 0.140213762, 173.7764, 2004, Small, 4637.9628), (5.365, 0.14024028, 171.0764, 1997, Small, 3263.7516), (5.365, 0.140458316, 169.7764, 1999, Medium, 3263.7516), (5.365, 0.140811559, 173.5764, 2009, Medium, 2061.3168), (5.405, 0.053576661, 200.5742, 1987, High, 2388.8904), (5.405, 0.053611144, 197.7742, 2004, Small, 796.2968), (5.405, 0.053839714, 198.6742, 2009, Medium, 2388.8904), (5.425, 0.114472403, 88.3514, 1997, Small, 2833.6448), (5.44, 0.017047751, 174.637, 1987, High, 2999.429), (5.44, 0.025458716, 241.2538, 1987, High, 3124.5994), (5.44, 0.025519534, 238.7538, 1999, Medium, 3605.307), (5.44, 0.025583714, 239.1538, 2009, Medium, 480.7076), (5.46, 0.03217132, 184.824, 2004, Small, 4287.752), (5.46, 0.032177405, 185.424, 1997, Small, 5219.872), (5.46, 0.032227432, 186.824, 1999, Medium, 1864.24), (5.46, 0.032308482, 185.224, 2009, Medium, 2423.512), (5.46, 0.106968096, 142.6786, 1987, High, 2311.6576), (5.46, 0.107036943, 144.2786, 2004, Small, 288.9572), ...]\n",
              "\n",
              "[6113 rows x 0 columns]"
            ],
            "text/html": [
              "\n",
              "  <div id=\"df-6090d1f2-860e-4166-b185-690b8c6a9292\">\n",
              "    <div class=\"colab-df-container\">\n",
              "      <div>\n",
              "<style scoped>\n",
              "    .dataframe tbody tr th:only-of-type {\n",
              "        vertical-align: middle;\n",
              "    }\n",
              "\n",
              "    .dataframe tbody tr th {\n",
              "        vertical-align: top;\n",
              "    }\n",
              "\n",
              "    .dataframe thead th {\n",
              "        text-align: right;\n",
              "    }\n",
              "</style>\n",
              "<table border=\"1\" class=\"dataframe\">\n",
              "  <thead>\n",
              "    <tr style=\"text-align: right;\">\n",
              "      <th></th>\n",
              "      <th></th>\n",
              "      <th></th>\n",
              "      <th></th>\n",
              "      <th></th>\n",
              "      <th></th>\n",
              "    </tr>\n",
              "    <tr>\n",
              "      <th>Item_Weight</th>\n",
              "      <th>Item_Visibility</th>\n",
              "      <th>Item_MRP</th>\n",
              "      <th>Outlet_Establishment_Year</th>\n",
              "      <th>Outlet_Size</th>\n",
              "      <th>Item_Outlet_Sales</th>\n",
              "    </tr>\n",
              "  </thead>\n",
              "  <tbody>\n",
              "    <tr>\n",
              "      <th rowspan=\"4\" valign=\"top\">4.555</th>\n",
              "      <th>0.034329</th>\n",
              "      <th>110.1544</th>\n",
              "      <th>1987</th>\n",
              "      <th>High</th>\n",
              "      <th>1230.3984</th>\n",
              "    </tr>\n",
              "    <tr>\n",
              "      <th>0.034351</th>\n",
              "      <th>112.7544</th>\n",
              "      <th>2004</th>\n",
              "      <th>Small</th>\n",
              "      <th>1789.6704</th>\n",
              "    </tr>\n",
              "    <tr>\n",
              "      <th>0.034357</th>\n",
              "      <th>112.6544</th>\n",
              "      <th>1997</th>\n",
              "      <th>Small</th>\n",
              "      <th>2684.5056</th>\n",
              "    </tr>\n",
              "    <tr>\n",
              "      <th>0.034411</th>\n",
              "      <th>111.3544</th>\n",
              "      <th>1999</th>\n",
              "      <th>Medium</th>\n",
              "      <th>1342.2528</th>\n",
              "    </tr>\n",
              "    <tr>\n",
              "      <th>4.590</th>\n",
              "      <th>0.070722</th>\n",
              "      <th>113.2860</th>\n",
              "      <th>1987</th>\n",
              "      <th>High</th>\n",
              "      <th>1471.4180</th>\n",
              "    </tr>\n",
              "    <tr>\n",
              "      <th>...</th>\n",
              "      <th>...</th>\n",
              "      <th>...</th>\n",
              "      <th>...</th>\n",
              "      <th>...</th>\n",
              "      <th>...</th>\n",
              "    </tr>\n",
              "    <tr>\n",
              "      <th rowspan=\"5\" valign=\"top\">21.350</th>\n",
              "      <th>0.068765</th>\n",
              "      <th>260.4278</th>\n",
              "      <th>1987</th>\n",
              "      <th>High</th>\n",
              "      <th>3644.5892</th>\n",
              "    </tr>\n",
              "    <tr>\n",
              "      <th>0.068809</th>\n",
              "      <th>258.5278</th>\n",
              "      <th>2004</th>\n",
              "      <th>Small</th>\n",
              "      <th>5206.5560</th>\n",
              "    </tr>\n",
              "    <tr>\n",
              "      <th>0.068822</th>\n",
              "      <th>258.3278</th>\n",
              "      <th>1997</th>\n",
              "      <th>Small</th>\n",
              "      <th>7028.8506</th>\n",
              "    </tr>\n",
              "    <tr>\n",
              "      <th>0.069103</th>\n",
              "      <th>259.9278</th>\n",
              "      <th>2009</th>\n",
              "      <th>Medium</th>\n",
              "      <th>6768.5228</th>\n",
              "    </tr>\n",
              "    <tr>\n",
              "      <th>0.078061</th>\n",
              "      <th>96.0094</th>\n",
              "      <th>2009</th>\n",
              "      <th>Medium</th>\n",
              "      <th>380.8376</th>\n",
              "    </tr>\n",
              "  </tbody>\n",
              "</table>\n",
              "<p>6113 rows × 0 columns</p>\n",
              "</div>\n",
              "      <button class=\"colab-df-convert\" onclick=\"convertToInteractive('df-6090d1f2-860e-4166-b185-690b8c6a9292')\"\n",
              "              title=\"Convert this dataframe to an interactive table.\"\n",
              "              style=\"display:none;\">\n",
              "        \n",
              "  <svg xmlns=\"http://www.w3.org/2000/svg\" height=\"24px\"viewBox=\"0 0 24 24\"\n",
              "       width=\"24px\">\n",
              "    <path d=\"M0 0h24v24H0V0z\" fill=\"none\"/>\n",
              "    <path d=\"M18.56 5.44l.94 2.06.94-2.06 2.06-.94-2.06-.94-.94-2.06-.94 2.06-2.06.94zm-11 1L8.5 8.5l.94-2.06 2.06-.94-2.06-.94L8.5 2.5l-.94 2.06-2.06.94zm10 10l.94 2.06.94-2.06 2.06-.94-2.06-.94-.94-2.06-.94 2.06-2.06.94z\"/><path d=\"M17.41 7.96l-1.37-1.37c-.4-.4-.92-.59-1.43-.59-.52 0-1.04.2-1.43.59L10.3 9.45l-7.72 7.72c-.78.78-.78 2.05 0 2.83L4 21.41c.39.39.9.59 1.41.59.51 0 1.02-.2 1.41-.59l7.78-7.78 2.81-2.81c.8-.78.8-2.07 0-2.86zM5.41 20L4 18.59l7.72-7.72 1.47 1.35L5.41 20z\"/>\n",
              "  </svg>\n",
              "      </button>\n",
              "      \n",
              "  <style>\n",
              "    .colab-df-container {\n",
              "      display:flex;\n",
              "      flex-wrap:wrap;\n",
              "      gap: 12px;\n",
              "    }\n",
              "\n",
              "    .colab-df-convert {\n",
              "      background-color: #E8F0FE;\n",
              "      border: none;\n",
              "      border-radius: 50%;\n",
              "      cursor: pointer;\n",
              "      display: none;\n",
              "      fill: #1967D2;\n",
              "      height: 32px;\n",
              "      padding: 0 0 0 0;\n",
              "      width: 32px;\n",
              "    }\n",
              "\n",
              "    .colab-df-convert:hover {\n",
              "      background-color: #E2EBFA;\n",
              "      box-shadow: 0px 1px 2px rgba(60, 64, 67, 0.3), 0px 1px 3px 1px rgba(60, 64, 67, 0.15);\n",
              "      fill: #174EA6;\n",
              "    }\n",
              "\n",
              "    [theme=dark] .colab-df-convert {\n",
              "      background-color: #3B4455;\n",
              "      fill: #D2E3FC;\n",
              "    }\n",
              "\n",
              "    [theme=dark] .colab-df-convert:hover {\n",
              "      background-color: #434B5C;\n",
              "      box-shadow: 0px 1px 3px 1px rgba(0, 0, 0, 0.15);\n",
              "      filter: drop-shadow(0px 1px 2px rgba(0, 0, 0, 0.3));\n",
              "      fill: #FFFFFF;\n",
              "    }\n",
              "  </style>\n",
              "\n",
              "      <script>\n",
              "        const buttonEl =\n",
              "          document.querySelector('#df-6090d1f2-860e-4166-b185-690b8c6a9292 button.colab-df-convert');\n",
              "        buttonEl.style.display =\n",
              "          google.colab.kernel.accessAllowed ? 'block' : 'none';\n",
              "\n",
              "        async function convertToInteractive(key) {\n",
              "          const element = document.querySelector('#df-6090d1f2-860e-4166-b185-690b8c6a9292');\n",
              "          const dataTable =\n",
              "            await google.colab.kernel.invokeFunction('convertToInteractive',\n",
              "                                                     [key], {});\n",
              "          if (!dataTable) return;\n",
              "\n",
              "          const docLinkHtml = 'Like what you see? Visit the ' +\n",
              "            '<a target=\"_blank\" href=https://colab.research.google.com/notebooks/data_table.ipynb>data table notebook</a>'\n",
              "            + ' to learn more about interactive tables.';\n",
              "          element.innerHTML = '';\n",
              "          dataTable['output_type'] = 'display_data';\n",
              "          await google.colab.output.renderOutput(dataTable, element);\n",
              "          const docLink = document.createElement('div');\n",
              "          docLink.innerHTML = docLinkHtml;\n",
              "          element.appendChild(docLink);\n",
              "        }\n",
              "      </script>\n",
              "    </div>\n",
              "  </div>\n",
              "  "
            ]
          },
          "metadata": {},
          "execution_count": 15
        }
      ]
    }
  ]
}