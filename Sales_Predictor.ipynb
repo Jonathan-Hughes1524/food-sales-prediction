{
  "nbformat": 4,
  "nbformat_minor": 0,
  "metadata": {
    "colab": {
      "name": "Sales Predictor",
      "provenance": [],
      "authorship_tag": "ABX9TyN9ybYbKTpgU0wD60yQcWYP",
      "include_colab_link": true
    },
    "kernelspec": {
      "name": "python3",
      "display_name": "Python 3"
    },
    "language_info": {
      "name": "python"
    }
  },
  "cells": [
    {
      "cell_type": "markdown",
      "metadata": {
        "id": "view-in-github",
        "colab_type": "text"
      },
      "source": [
        "<a href=\"https://colab.research.google.com/github/Jonathan-Hughes1524/food-sales-prediction/blob/main/Sales_Predictor.ipynb\" target=\"_parent\"><img src=\"https://colab.research.google.com/assets/colab-badge.svg\" alt=\"Open In Colab\"/></a>"
      ]
    },
    {
      "cell_type": "code",
      "execution_count": 1,
      "metadata": {
        "colab": {
          "base_uri": "https://localhost:8080/"
        },
        "id": "SEnnsuZ5aDBW",
        "outputId": "c730913d-f13b-400e-9b1c-0934ea455ee2"
      },
      "outputs": [
        {
          "output_type": "stream",
          "name": "stdout",
          "text": [
            "Mounted at /content/drive\n"
          ]
        }
      ],
      "source": [
        "from google.colab import drive\n",
        "drive.mount('/content/drive')"
      ]
    },
    {
      "cell_type": "code",
      "source": [
        "import pandas as pd"
      ],
      "metadata": {
        "id": "C-KtxsEaal3M"
      },
      "execution_count": 2,
      "outputs": []
    },
    {
      "cell_type": "code",
      "source": [
        "filename = '/content/drive/MyDrive/Coding Dojo/01 Week 1: Python/sales_predictions (1).csv'\n",
        "df = pd.read_csv(filename)\n",
        "df.head()"
      ],
      "metadata": {
        "colab": {
          "base_uri": "https://localhost:8080/",
          "height": 357
        },
        "id": "7vMYGvJ4auch",
        "outputId": "850c7600-a805-4c00-ce2e-83e68f9a3edc"
      },
      "execution_count": 3,
      "outputs": [
        {
          "output_type": "execute_result",
          "data": {
            "text/plain": [
              "  Item_Identifier  Item_Weight Item_Fat_Content  Item_Visibility  \\\n",
              "0           FDA15         9.30          Low Fat         0.016047   \n",
              "1           DRC01         5.92          Regular         0.019278   \n",
              "2           FDN15        17.50          Low Fat         0.016760   \n",
              "3           FDX07        19.20          Regular         0.000000   \n",
              "4           NCD19         8.93          Low Fat         0.000000   \n",
              "\n",
              "               Item_Type  Item_MRP Outlet_Identifier  \\\n",
              "0                  Dairy  249.8092            OUT049   \n",
              "1            Soft Drinks   48.2692            OUT018   \n",
              "2                   Meat  141.6180            OUT049   \n",
              "3  Fruits and Vegetables  182.0950            OUT010   \n",
              "4              Household   53.8614            OUT013   \n",
              "\n",
              "   Outlet_Establishment_Year Outlet_Size Outlet_Location_Type  \\\n",
              "0                       1999      Medium               Tier 1   \n",
              "1                       2009      Medium               Tier 3   \n",
              "2                       1999      Medium               Tier 1   \n",
              "3                       1998         NaN               Tier 3   \n",
              "4                       1987        High               Tier 3   \n",
              "\n",
              "         Outlet_Type  Item_Outlet_Sales  \n",
              "0  Supermarket Type1          3735.1380  \n",
              "1  Supermarket Type2           443.4228  \n",
              "2  Supermarket Type1          2097.2700  \n",
              "3      Grocery Store           732.3800  \n",
              "4  Supermarket Type1           994.7052  "
            ],
            "text/html": [
              "\n",
              "  <div id=\"df-b2a512ba-97b2-428f-b563-370e4e9283e4\">\n",
              "    <div class=\"colab-df-container\">\n",
              "      <div>\n",
              "<style scoped>\n",
              "    .dataframe tbody tr th:only-of-type {\n",
              "        vertical-align: middle;\n",
              "    }\n",
              "\n",
              "    .dataframe tbody tr th {\n",
              "        vertical-align: top;\n",
              "    }\n",
              "\n",
              "    .dataframe thead th {\n",
              "        text-align: right;\n",
              "    }\n",
              "</style>\n",
              "<table border=\"1\" class=\"dataframe\">\n",
              "  <thead>\n",
              "    <tr style=\"text-align: right;\">\n",
              "      <th></th>\n",
              "      <th>Item_Identifier</th>\n",
              "      <th>Item_Weight</th>\n",
              "      <th>Item_Fat_Content</th>\n",
              "      <th>Item_Visibility</th>\n",
              "      <th>Item_Type</th>\n",
              "      <th>Item_MRP</th>\n",
              "      <th>Outlet_Identifier</th>\n",
              "      <th>Outlet_Establishment_Year</th>\n",
              "      <th>Outlet_Size</th>\n",
              "      <th>Outlet_Location_Type</th>\n",
              "      <th>Outlet_Type</th>\n",
              "      <th>Item_Outlet_Sales</th>\n",
              "    </tr>\n",
              "  </thead>\n",
              "  <tbody>\n",
              "    <tr>\n",
              "      <th>0</th>\n",
              "      <td>FDA15</td>\n",
              "      <td>9.30</td>\n",
              "      <td>Low Fat</td>\n",
              "      <td>0.016047</td>\n",
              "      <td>Dairy</td>\n",
              "      <td>249.8092</td>\n",
              "      <td>OUT049</td>\n",
              "      <td>1999</td>\n",
              "      <td>Medium</td>\n",
              "      <td>Tier 1</td>\n",
              "      <td>Supermarket Type1</td>\n",
              "      <td>3735.1380</td>\n",
              "    </tr>\n",
              "    <tr>\n",
              "      <th>1</th>\n",
              "      <td>DRC01</td>\n",
              "      <td>5.92</td>\n",
              "      <td>Regular</td>\n",
              "      <td>0.019278</td>\n",
              "      <td>Soft Drinks</td>\n",
              "      <td>48.2692</td>\n",
              "      <td>OUT018</td>\n",
              "      <td>2009</td>\n",
              "      <td>Medium</td>\n",
              "      <td>Tier 3</td>\n",
              "      <td>Supermarket Type2</td>\n",
              "      <td>443.4228</td>\n",
              "    </tr>\n",
              "    <tr>\n",
              "      <th>2</th>\n",
              "      <td>FDN15</td>\n",
              "      <td>17.50</td>\n",
              "      <td>Low Fat</td>\n",
              "      <td>0.016760</td>\n",
              "      <td>Meat</td>\n",
              "      <td>141.6180</td>\n",
              "      <td>OUT049</td>\n",
              "      <td>1999</td>\n",
              "      <td>Medium</td>\n",
              "      <td>Tier 1</td>\n",
              "      <td>Supermarket Type1</td>\n",
              "      <td>2097.2700</td>\n",
              "    </tr>\n",
              "    <tr>\n",
              "      <th>3</th>\n",
              "      <td>FDX07</td>\n",
              "      <td>19.20</td>\n",
              "      <td>Regular</td>\n",
              "      <td>0.000000</td>\n",
              "      <td>Fruits and Vegetables</td>\n",
              "      <td>182.0950</td>\n",
              "      <td>OUT010</td>\n",
              "      <td>1998</td>\n",
              "      <td>NaN</td>\n",
              "      <td>Tier 3</td>\n",
              "      <td>Grocery Store</td>\n",
              "      <td>732.3800</td>\n",
              "    </tr>\n",
              "    <tr>\n",
              "      <th>4</th>\n",
              "      <td>NCD19</td>\n",
              "      <td>8.93</td>\n",
              "      <td>Low Fat</td>\n",
              "      <td>0.000000</td>\n",
              "      <td>Household</td>\n",
              "      <td>53.8614</td>\n",
              "      <td>OUT013</td>\n",
              "      <td>1987</td>\n",
              "      <td>High</td>\n",
              "      <td>Tier 3</td>\n",
              "      <td>Supermarket Type1</td>\n",
              "      <td>994.7052</td>\n",
              "    </tr>\n",
              "  </tbody>\n",
              "</table>\n",
              "</div>\n",
              "      <button class=\"colab-df-convert\" onclick=\"convertToInteractive('df-b2a512ba-97b2-428f-b563-370e4e9283e4')\"\n",
              "              title=\"Convert this dataframe to an interactive table.\"\n",
              "              style=\"display:none;\">\n",
              "        \n",
              "  <svg xmlns=\"http://www.w3.org/2000/svg\" height=\"24px\"viewBox=\"0 0 24 24\"\n",
              "       width=\"24px\">\n",
              "    <path d=\"M0 0h24v24H0V0z\" fill=\"none\"/>\n",
              "    <path d=\"M18.56 5.44l.94 2.06.94-2.06 2.06-.94-2.06-.94-.94-2.06-.94 2.06-2.06.94zm-11 1L8.5 8.5l.94-2.06 2.06-.94-2.06-.94L8.5 2.5l-.94 2.06-2.06.94zm10 10l.94 2.06.94-2.06 2.06-.94-2.06-.94-.94-2.06-.94 2.06-2.06.94z\"/><path d=\"M17.41 7.96l-1.37-1.37c-.4-.4-.92-.59-1.43-.59-.52 0-1.04.2-1.43.59L10.3 9.45l-7.72 7.72c-.78.78-.78 2.05 0 2.83L4 21.41c.39.39.9.59 1.41.59.51 0 1.02-.2 1.41-.59l7.78-7.78 2.81-2.81c.8-.78.8-2.07 0-2.86zM5.41 20L4 18.59l7.72-7.72 1.47 1.35L5.41 20z\"/>\n",
              "  </svg>\n",
              "      </button>\n",
              "      \n",
              "  <style>\n",
              "    .colab-df-container {\n",
              "      display:flex;\n",
              "      flex-wrap:wrap;\n",
              "      gap: 12px;\n",
              "    }\n",
              "\n",
              "    .colab-df-convert {\n",
              "      background-color: #E8F0FE;\n",
              "      border: none;\n",
              "      border-radius: 50%;\n",
              "      cursor: pointer;\n",
              "      display: none;\n",
              "      fill: #1967D2;\n",
              "      height: 32px;\n",
              "      padding: 0 0 0 0;\n",
              "      width: 32px;\n",
              "    }\n",
              "\n",
              "    .colab-df-convert:hover {\n",
              "      background-color: #E2EBFA;\n",
              "      box-shadow: 0px 1px 2px rgba(60, 64, 67, 0.3), 0px 1px 3px 1px rgba(60, 64, 67, 0.15);\n",
              "      fill: #174EA6;\n",
              "    }\n",
              "\n",
              "    [theme=dark] .colab-df-convert {\n",
              "      background-color: #3B4455;\n",
              "      fill: #D2E3FC;\n",
              "    }\n",
              "\n",
              "    [theme=dark] .colab-df-convert:hover {\n",
              "      background-color: #434B5C;\n",
              "      box-shadow: 0px 1px 3px 1px rgba(0, 0, 0, 0.15);\n",
              "      filter: drop-shadow(0px 1px 2px rgba(0, 0, 0, 0.3));\n",
              "      fill: #FFFFFF;\n",
              "    }\n",
              "  </style>\n",
              "\n",
              "      <script>\n",
              "        const buttonEl =\n",
              "          document.querySelector('#df-b2a512ba-97b2-428f-b563-370e4e9283e4 button.colab-df-convert');\n",
              "        buttonEl.style.display =\n",
              "          google.colab.kernel.accessAllowed ? 'block' : 'none';\n",
              "\n",
              "        async function convertToInteractive(key) {\n",
              "          const element = document.querySelector('#df-b2a512ba-97b2-428f-b563-370e4e9283e4');\n",
              "          const dataTable =\n",
              "            await google.colab.kernel.invokeFunction('convertToInteractive',\n",
              "                                                     [key], {});\n",
              "          if (!dataTable) return;\n",
              "\n",
              "          const docLinkHtml = 'Like what you see? Visit the ' +\n",
              "            '<a target=\"_blank\" href=https://colab.research.google.com/notebooks/data_table.ipynb>data table notebook</a>'\n",
              "            + ' to learn more about interactive tables.';\n",
              "          element.innerHTML = '';\n",
              "          dataTable['output_type'] = 'display_data';\n",
              "          await google.colab.output.renderOutput(dataTable, element);\n",
              "          const docLink = document.createElement('div');\n",
              "          docLink.innerHTML = docLinkHtml;\n",
              "          element.appendChild(docLink);\n",
              "        }\n",
              "      </script>\n",
              "    </div>\n",
              "  </div>\n",
              "  "
            ]
          },
          "metadata": {},
          "execution_count": 3
        }
      ]
    },
    {
      "cell_type": "code",
      "source": [
        "df.info()"
      ],
      "metadata": {
        "id": "0EtWTgHDbDzD",
        "colab": {
          "base_uri": "https://localhost:8080/"
        },
        "outputId": "c43db789-1e84-44c0-e7a3-f497b4012235"
      },
      "execution_count": 4,
      "outputs": [
        {
          "output_type": "stream",
          "name": "stdout",
          "text": [
            "<class 'pandas.core.frame.DataFrame'>\n",
            "RangeIndex: 8523 entries, 0 to 8522\n",
            "Data columns (total 12 columns):\n",
            " #   Column                     Non-Null Count  Dtype  \n",
            "---  ------                     --------------  -----  \n",
            " 0   Item_Identifier            8523 non-null   object \n",
            " 1   Item_Weight                7060 non-null   float64\n",
            " 2   Item_Fat_Content           8523 non-null   object \n",
            " 3   Item_Visibility            8523 non-null   float64\n",
            " 4   Item_Type                  8523 non-null   object \n",
            " 5   Item_MRP                   8523 non-null   float64\n",
            " 6   Outlet_Identifier          8523 non-null   object \n",
            " 7   Outlet_Establishment_Year  8523 non-null   int64  \n",
            " 8   Outlet_Size                6113 non-null   object \n",
            " 9   Outlet_Location_Type       8523 non-null   object \n",
            " 10  Outlet_Type                8523 non-null   object \n",
            " 11  Item_Outlet_Sales          8523 non-null   float64\n",
            "dtypes: float64(4), int64(1), object(7)\n",
            "memory usage: 799.2+ KB\n"
          ]
        }
      ]
    },
    {
      "cell_type": "code",
      "source": [
        "df.duplicated().sum()"
      ],
      "metadata": {
        "colab": {
          "base_uri": "https://localhost:8080/"
        },
        "id": "o6ThIXykek6B",
        "outputId": "174cfa8c-1aaf-42a5-c60b-71ebb8be7ae1"
      },
      "execution_count": 5,
      "outputs": [
        {
          "output_type": "execute_result",
          "data": {
            "text/plain": [
              "0"
            ]
          },
          "metadata": {},
          "execution_count": 5
        }
      ]
    },
    {
      "cell_type": "code",
      "source": [
        "df.isna().sum()"
      ],
      "metadata": {
        "colab": {
          "base_uri": "https://localhost:8080/"
        },
        "id": "rLC-YMTqfkVV",
        "outputId": "ad56affc-9133-4526-f251-998fe3c3f18c"
      },
      "execution_count": 6,
      "outputs": [
        {
          "output_type": "execute_result",
          "data": {
            "text/plain": [
              "Item_Identifier                 0\n",
              "Item_Weight                  1463\n",
              "Item_Fat_Content                0\n",
              "Item_Visibility                 0\n",
              "Item_Type                       0\n",
              "Item_MRP                        0\n",
              "Outlet_Identifier               0\n",
              "Outlet_Establishment_Year       0\n",
              "Outlet_Size                  2410\n",
              "Outlet_Location_Type            0\n",
              "Outlet_Type                     0\n",
              "Item_Outlet_Sales               0\n",
              "dtype: int64"
            ]
          },
          "metadata": {},
          "execution_count": 6
        }
      ]
    },
    {
      "cell_type": "markdown",
      "source": [
        "For the Item_Weight I chose to take the average weight of the items. I felt with the data that was already known this would give a good data to fill the missing. I did not want to drop this data becasue shipping costs would affect the price of the product. Which in turn could affect the sales of the product.\n",
        "I also chose do the average for the store size. The size of the store could impact the amount sold. I felt going with the average size for stores would be a good data point because it would be a good estimate for a store size without any other data. "
      ],
      "metadata": {
        "id": "SzGAsoAo6HdG"
      }
    },
    {
      "cell_type": "code",
      "source": [
        "item_weight_mean = df['Item_Weight'].mean()\n",
        "df['Item_Weight'].fillna(item_weight_mean, inplace = True)\n",
        "df.isna().sum()"
      ],
      "metadata": {
        "colab": {
          "base_uri": "https://localhost:8080/"
        },
        "id": "SIhGU7av59Dt",
        "outputId": "55af617c-7162-41cc-e2d9-8fa7b15ac104"
      },
      "execution_count": 9,
      "outputs": [
        {
          "output_type": "execute_result",
          "data": {
            "text/plain": [
              "Item_Identifier                 0\n",
              "Item_Weight                     0\n",
              "Item_Fat_Content                0\n",
              "Item_Visibility                 0\n",
              "Item_Type                       0\n",
              "Item_MRP                        0\n",
              "Outlet_Identifier               0\n",
              "Outlet_Establishment_Year       0\n",
              "Outlet_Size                  2410\n",
              "Outlet_Location_Type            0\n",
              "Outlet_Type                     0\n",
              "Item_Outlet_Sales               0\n",
              "dtype: int64"
            ]
          },
          "metadata": {},
          "execution_count": 9
        }
      ]
    },
    {
      "cell_type": "code",
      "source": [
        "df['Outlet_Size'].value_counts"
      ],
      "metadata": {
        "colab": {
          "base_uri": "https://localhost:8080/"
        },
        "id": "2uRreKdS1he9",
        "outputId": "c5e0d396-7874-457b-ddee-f464f6da8442"
      },
      "execution_count": 11,
      "outputs": [
        {
          "output_type": "execute_result",
          "data": {
            "text/plain": [
              "<bound method IndexOpsMixin.value_counts of 0       Medium\n",
              "1       Medium\n",
              "2       Medium\n",
              "3          NaN\n",
              "4         High\n",
              "         ...  \n",
              "8518      High\n",
              "8519       NaN\n",
              "8520     Small\n",
              "8521    Medium\n",
              "8522     Small\n",
              "Name: Outlet_Size, Length: 8523, dtype: object>"
            ]
          },
          "metadata": {},
          "execution_count": 11
        }
      ]
    },
    {
      "cell_type": "markdown",
      "source": [
        "# For the coding to allow me to be able to do the mean I had to go in and change the objects to an integer. I made the small 1 and work in ascending order to high numerically.\n"
      ],
      "metadata": {
        "id": "BjctnMY1224u"
      }
    },
    {
      "cell_type": "code",
      "source": [
        "df['Outlet_Size'] = df['Outlet_Size'].replace('Small', 1)\n",
        "df['Outlet_Size'] = df['Outlet_Size'].replace('Medium', 2)\n",
        "df['Outlet_Size'] = df['Outlet_Size'].replace('High', 3)\n",
        "df['Outlet_Size'].value_counts()"
      ],
      "metadata": {
        "colab": {
          "base_uri": "https://localhost:8080/"
        },
        "id": "V5PO6frF1oX2",
        "outputId": "cd0dec89-2f40-4072-d179-ddc9bfa49049"
      },
      "execution_count": 15,
      "outputs": [
        {
          "output_type": "execute_result",
          "data": {
            "text/plain": [
              "2.0    2793\n",
              "1.0    2388\n",
              "3.0     932\n",
              "Name: Outlet_Size, dtype: int64"
            ]
          },
          "metadata": {},
          "execution_count": 15
        }
      ]
    },
    {
      "cell_type": "code",
      "source": [
        "outlet_size_mean = df['Outlet_Size'].mean()\n",
        "df['Outlet_Size'].fillna(outlet_size_mean, inplace = True)\n",
        "df.isna().sum()"
      ],
      "metadata": {
        "colab": {
          "base_uri": "https://localhost:8080/"
        },
        "id": "tv2l9BKZMvRn",
        "outputId": "2545f1df-3616-4730-da52-e534c8a9ebb0"
      },
      "execution_count": 16,
      "outputs": [
        {
          "output_type": "execute_result",
          "data": {
            "text/plain": [
              "Item_Identifier              0\n",
              "Item_Weight                  0\n",
              "Item_Fat_Content             0\n",
              "Item_Visibility              0\n",
              "Item_Type                    0\n",
              "Item_MRP                     0\n",
              "Outlet_Identifier            0\n",
              "Outlet_Establishment_Year    0\n",
              "Outlet_Size                  0\n",
              "Outlet_Location_Type         0\n",
              "Outlet_Type                  0\n",
              "Item_Outlet_Sales            0\n",
              "dtype: int64"
            ]
          },
          "metadata": {},
          "execution_count": 16
        }
      ]
    },
    {
      "cell_type": "code",
      "source": [
        "df.value_counts()"
      ],
      "metadata": {
        "colab": {
          "base_uri": "https://localhost:8080/"
        },
        "id": "ELHOTtKvf0dj",
        "outputId": "1df64005-c23c-405c-be11-f264be8522ee"
      },
      "execution_count": 7,
      "outputs": [
        {
          "output_type": "execute_result",
          "data": {
            "text/plain": [
              "Item_Identifier  Item_Weight  Item_Fat_Content  Item_Visibility  Item_Type     Item_MRP  Outlet_Identifier  Outlet_Establishment_Year  Outlet_Size  Outlet_Location_Type  Outlet_Type        Item_Outlet_Sales\n",
              "DRA12            11.600       LF                0.000000         Soft Drinks   141.9154  OUT035             2004                       Small        Tier 2                Supermarket Type1  992.7078             1\n",
              "FDV35            19.500       Low Fat           0.128182         Breads        156.1314  OUT035             2004                       Small        Tier 2                Supermarket Type1  2792.3652            1\n",
              "FDV25            5.905        low fat           0.045614         Canned        221.5456  OUT013             1987                       High         Tier 3                Supermarket Type1  6852.4136            1\n",
              "                              Low Fat           0.045838         Canned        222.5456  OUT018             2009                       Medium       Tier 3                Supermarket Type2  3315.6840            1\n",
              "                                                0.045723         Canned        222.1456  OUT049             1999                       Medium       Tier 1                Supermarket Type1  5747.1856            1\n",
              "                                                                                                                                                                                                                 ..\n",
              "FDJ16            9.195        Low Fat           0.115064         Frozen Foods  58.6246   OUT049             1999                       Medium       Tier 1                Supermarket Type1  868.8690             1\n",
              "                                                0.114886         Frozen Foods  59.6246   OUT046             1997                       Small        Tier 1                Supermarket Type1  1100.5674            1\n",
              "                              LF                0.114864         Frozen Foods  59.0246   OUT035             2004                       Small        Tier 2                Supermarket Type1  1853.5872            1\n",
              "FDJ15            11.350       Regular           0.023359         Dairy         184.4608  OUT049             1999                       Medium       Tier 1                Supermarket Type1  4042.7376            1\n",
              "NCZ54            14.650       Low Fat           0.083699         Household     163.4552  OUT018             2009                       Medium       Tier 3                Supermarket Type2  2599.2832            1\n",
              "Length: 4650, dtype: int64"
            ]
          },
          "metadata": {},
          "execution_count": 7
        }
      ]
    },
    {
      "cell_type": "code",
      "source": [
        "df['Item_Fat_Content'] = df['Item_Fat_Content'].replace('LF', 'Low Fat')\n",
        "df['Item_Fat_Content'] = df['Item_Fat_Content'].replace('low fat', 'Low Fat')\n",
        "df['Item_Fat_Content'] = df['Item_Fat_Content'].replace('reg', 'Regular')\n",
        "df['Item_Fat_Content'].value_counts()"
      ],
      "metadata": {
        "colab": {
          "base_uri": "https://localhost:8080/"
        },
        "id": "v8l3UGrQoLux",
        "outputId": "d85e0758-362c-4341-a4f8-57396f2a3cfb"
      },
      "execution_count": 12,
      "outputs": [
        {
          "output_type": "execute_result",
          "data": {
            "text/plain": [
              "Low Fat    5517\n",
              "Regular    3006\n",
              "Name: Item_Fat_Content, dtype: int64"
            ]
          },
          "metadata": {},
          "execution_count": 12
        }
      ]
    },
    {
      "cell_type": "code",
      "source": [
        "df.info()"
      ],
      "metadata": {
        "colab": {
          "base_uri": "https://localhost:8080/"
        },
        "id": "p-OXeIh7otcZ",
        "outputId": "2538a29e-7902-477b-a615-c14a4d16fd61"
      },
      "execution_count": 17,
      "outputs": [
        {
          "output_type": "stream",
          "name": "stdout",
          "text": [
            "<class 'pandas.core.frame.DataFrame'>\n",
            "RangeIndex: 8523 entries, 0 to 8522\n",
            "Data columns (total 12 columns):\n",
            " #   Column                     Non-Null Count  Dtype  \n",
            "---  ------                     --------------  -----  \n",
            " 0   Item_Identifier            8523 non-null   object \n",
            " 1   Item_Weight                8523 non-null   float64\n",
            " 2   Item_Fat_Content           8523 non-null   object \n",
            " 3   Item_Visibility            8523 non-null   float64\n",
            " 4   Item_Type                  8523 non-null   object \n",
            " 5   Item_MRP                   8523 non-null   float64\n",
            " 6   Outlet_Identifier          8523 non-null   object \n",
            " 7   Outlet_Establishment_Year  8523 non-null   int64  \n",
            " 8   Outlet_Size                8523 non-null   float64\n",
            " 9   Outlet_Location_Type       8523 non-null   object \n",
            " 10  Outlet_Type                8523 non-null   object \n",
            " 11  Item_Outlet_Sales          8523 non-null   float64\n",
            "dtypes: float64(5), int64(1), object(6)\n",
            "memory usage: 799.2+ KB\n"
          ]
        }
      ]
    },
    {
      "cell_type": "code",
      "source": [
        "df.groupby(['Item_Weight', 'Item_Visibility','Item_MRP','Outlet_Establishment_Year','Outlet_Size','Item_Outlet_Sales']).min()\n",
        "df.groupby(['Item_Weight', 'Item_Visibility','Item_MRP','Outlet_Establishment_Year','Outlet_Size','Item_Outlet_Sales']).max()\n",
        "df.groupby(['Item_Weight', 'Item_Visibility','Item_MRP','Outlet_Establishment_Year','Outlet_Size','Item_Outlet_Sales']).mean()"
      ],
      "metadata": {
        "colab": {
          "base_uri": "https://localhost:8080/",
          "height": 538
        },
        "id": "jededaA83V6Q",
        "outputId": "d46e4220-8778-4975-f985-0525b6593109"
      },
      "execution_count": 24,
      "outputs": [
        {
          "output_type": "stream",
          "name": "stderr",
          "text": [
            "/usr/local/lib/python3.7/dist-packages/IPython/core/interactiveshell.py:2882: FutureWarning: Dropping invalid columns in DataFrameGroupBy.mean is deprecated. In a future version, a TypeError will be raised. Before calling .mean, select only columns which should be valid for the function.\n",
            "  exec(code_obj, self.user_global_ns, self.user_ns)\n"
          ]
        },
        {
          "output_type": "execute_result",
          "data": {
            "text/plain": [
              "Empty DataFrame\n",
              "Columns: []\n",
              "Index: [(4.555, 0.034328578, 110.1544, 1987, 3.0, 1230.3984), (4.555, 0.034350673, 112.7544, 2004, 1.0, 1789.6704), (4.555, 0.034357169, 112.6544, 1997, 1.0, 2684.5056), (4.555, 0.034410585, 111.3544, 1999, 2.0, 1342.2528), (4.59, 0.0, 111.186, 2002, 1.7618190741043678, 1245.046), (4.59, 0.070721656, 113.286, 1987, 3.0, 1471.418), (4.59, 0.070767174, 111.986, 2004, 1.0, 792.302), (4.59, 0.070780558, 114.586, 1997, 1.0, 1245.046), (4.59, 0.070890602, 111.686, 1999, 2.0, 1584.604), (4.61, 0.0, 173.8396, 1997, 1.0, 1221.0772), (4.61, 0.122629121, 175.4396, 2004, 1.0, 2616.594), (4.61, 0.122843005, 172.4396, 1999, 2.0, 1569.9564), (4.61, 0.122901056, 174.4396, 2002, 1.7618190741043678, 2616.594), (4.61, 0.123151947, 175.2396, 2009, 2.0, 2093.2752), (4.61, 0.123346085, 172.5396, 2007, 1.7618190741043678, 3663.2316), (4.61, 0.205294827, 172.8396, 1998, 1.7618190741043678, 174.4396), (4.615, 0.101747034, 231.33, 1987, 3.0, 4660.6), (4.615, 0.101812521, 232.23, 2004, 1.0, 5126.66), (4.615, 0.102038294, 231.93, 2002, 1.7618190741043678, 2563.33), (4.615, 0.102407778, 234.33, 2007, 1.7618190741043678, 3961.51), (4.635, 0.14086247, 126.4994, 2004, 1.0, 1670.4922), (4.635, 0.140889111, 127.0994, 1997, 1.0, 1927.491), (4.635, 0.141108156, 128.2994, 1999, 2.0, 2698.4874), (4.635, 0.141174838, 127.0994, 2002, 1.7618190741043678, 2826.9868), (4.635, 0.141686037, 126.9994, 2007, 1.7618190741043678, 1798.9916), (4.785, 0.092516598, 120.1098, 1987, 3.0, 1325.6078), (4.785, 0.092576144, 121.0098, 2004, 1.0, 2530.7058), (4.785, 0.092781435, 119.7098, 2002, 1.7618190741043678, 1807.647), (4.785, 0.09297084, 122.0098, 2009, 2.0, 2048.6666), (4.785, 0.0931174, 118.6098, 2007, 1.7618190741043678, 361.5294), (4.805, 0.0, 123.9704, 2002, 1.7618190741043678, 2253.0672), (4.805, 0.037668051, 126.7704, 1987, 3.0, 2628.5784), (4.805, 0.037699423, 125.5704, 1997, 1.0, 3880.2824), (4.805, 0.037852995, 126.2704, 2009, 2.0, 3629.9416), (4.88, 0.0, 53.1298, 2004, 1.0, 808.947), (4.88, 0.133382115, 55.0298, 1987, 3.0, 647.1576), (4.88, 0.133700752, 52.9298, 1999, 2.0, 1995.4026), (4.88, 0.134037, 53.3298, 2009, 2.0, 539.298), (4.88, 0.223440258, 52.2298, 1998, 1.7618190741043678, 161.7894), (4.905, 0.117308165, 195.7768, 2004, 1.0, 2956.152), (4.905, 0.1175683, 197.6768, 2002, 1.7618190741043678, 2956.152), (4.92, 0.045916788, 198.8084, 1987, 3.0, 2976.126), (4.92, 0.045955031, 199.1084, 1997, 1.0, 2182.4924), (4.92, 0.046026479, 196.5084, 1999, 2.0, 3769.7596), (4.92, 0.046142232, 199.1084, 2009, 2.0, 4761.8016), (4.92, 0.046214971, 199.8084, 2007, 1.7618190741043678, 3968.168), (5.0, 0.0, 189.853, 2002, 1.7618190741043678, 4933.578), (5.0, 0.0, 190.453, 1998, 1.7618190741043678, 379.506), (5.0, 0.044004675, 188.853, 1997, 1.0, 5502.837), (5.03, 0.008639333, 122.2756, 1987, 3.0, 2059.9852), (5.03, 0.008644894, 122.6756, 2004, 1.0, 2665.8632), (5.03, 0.008664064, 119.3756, 2002, 1.7618190741043678, 605.878), (5.03, 0.014472516, 122.0756, 1998, 1.7618190741043678, 121.1756), (5.035, 0.0, 228.2036, 1997, 1.0, 4781.7756), (5.035, 0.079844043, 226.3036, 1987, 3.0, 4098.6648), (5.035, 0.080072603, 228.2036, 2002, 1.7618190741043678, 2504.7396), (5.035, 0.080362549, 229.0036, 2007, 1.7618190741043678, 4326.3684), (5.095, 0.129395895, 140.3838, 1987, 3.0, 1826.2894), (5.095, 0.129479176, 139.7838, 2004, 1.0, 1264.3542), (5.095, 0.129705008, 141.8838, 1999, 2.0, 1966.7732), (5.095, 0.129766301, 141.6838, 2002, 1.7618190741043678, 3231.1274), (5.095, 0.130031207, 142.4838, 2009, 2.0, 561.9352), (5.11, 0.0, 164.721, 2009, 2.0, 3588.662), (5.11, 0.034868095, 163.821, 2004, 1.0, 2120.573), (5.11, 0.034874689, 161.721, 1997, 1.0, 2446.815), (5.11, 0.034945416, 161.121, 2002, 1.7618190741043678, 2609.936), (5.11, 0.035071955, 163.221, 2007, 1.7618190741043678, 2773.057), (5.15, 0.0, 122.9388, 2007, 1.7618190741043678, 2105.2596), (5.15, 0.06112617, 122.5388, 1987, 3.0, 371.5164), (5.15, 0.061165512, 125.6388, 2004, 1.0, 2848.2924), (5.15, 0.06117708, 121.8388, 1997, 1.0, 3219.8088), (5.15, 0.061272194, 125.6388, 1999, 2.0, 1733.7432), (5.15, 0.061301149, 122.1388, 2002, 1.7618190741043678, 2352.9372), (5.15, 0.10239789, 122.1388, 1998, 1.7618190741043678, 495.3552), (5.155, 0.083198341, 246.0776, 1997, 1.0, 990.7104), (5.155, 0.083327693, 247.2776, 1999, 2.0, 5944.2624), (5.175, 0.029471408, 105.4622, 1987, 3.0, 3281.7282), (5.175, 0.029490377, 107.6622, 2004, 1.0, 2858.2794), (5.175, 0.029555773, 105.9622, 2002, 1.7618190741043678, 1693.7952), (5.175, 0.029616108, 107.7622, 2009, 2.0, 2011.3818), (5.175, 0.029662795, 105.2622, 2007, 1.7618190741043678, 2328.9684), (5.175, 0.030330202, 35.4874, 1987, 3.0, 388.1614), (5.175, 0.030349723, 37.0874, 2004, 1.0, 423.4488), (5.175, 0.030479118, 33.2874, 2009, 2.0, 635.1732), (5.175, 0.030527166, 33.5874, 2007, 1.7618190741043678, 635.1732), (5.175, 0.03736783, 86.9224, 1987, 3.0, 255.6672), (5.175, 0.037391881, 83.2224, 2004, 1.0, 1789.6704), (5.175, 0.037398953, 84.2224, 1997, 1.0, 852.224), (5.175, 0.037457098, 83.4224, 1999, 2.0, 1448.7808), (5.175, 0.04937018, 106.7622, 1998, 1.7618190741043678, 211.7244), (5.175, 0.050808821, 33.6874, 1998, 1.7618190741043678, 70.5748), (5.19, 0.042687151, 195.911, 1999, 2.0, 2946.165), (5.19, 0.042707323, 197.811, 2002, 1.7618190741043678, 2946.165), (5.19, 0.042861968, 196.811, 2007, 1.7618190741043678, 3731.809), (5.19, 0.044252621, 102.599, 1997, 1.0, 1651.184), (5.19, 0.044321422, 103.899, 1999, 2.0, 2889.572), (5.19, 0.044432887, 102.899, 2009, 2.0, 1651.184), (5.21, 0.011007815, 259.5962, 2004, 1.0, 2848.9582), (5.21, 0.011072173, 257.8962, 2007, 1.7618190741043678, 4402.9354), (5.26, 0.02454694, 95.7068, 1999, 2.0, 1166.4816), ...]\n",
              "\n",
              "[8523 rows x 0 columns]"
            ],
            "text/html": [
              "\n",
              "  <div id=\"df-46c7f249-2db6-4b5a-aaf6-4626b1d8b158\">\n",
              "    <div class=\"colab-df-container\">\n",
              "      <div>\n",
              "<style scoped>\n",
              "    .dataframe tbody tr th:only-of-type {\n",
              "        vertical-align: middle;\n",
              "    }\n",
              "\n",
              "    .dataframe tbody tr th {\n",
              "        vertical-align: top;\n",
              "    }\n",
              "\n",
              "    .dataframe thead th {\n",
              "        text-align: right;\n",
              "    }\n",
              "</style>\n",
              "<table border=\"1\" class=\"dataframe\">\n",
              "  <thead>\n",
              "    <tr style=\"text-align: right;\">\n",
              "      <th></th>\n",
              "      <th></th>\n",
              "      <th></th>\n",
              "      <th></th>\n",
              "      <th></th>\n",
              "      <th></th>\n",
              "    </tr>\n",
              "    <tr>\n",
              "      <th>Item_Weight</th>\n",
              "      <th>Item_Visibility</th>\n",
              "      <th>Item_MRP</th>\n",
              "      <th>Outlet_Establishment_Year</th>\n",
              "      <th>Outlet_Size</th>\n",
              "      <th>Item_Outlet_Sales</th>\n",
              "    </tr>\n",
              "  </thead>\n",
              "  <tbody>\n",
              "    <tr>\n",
              "      <th rowspan=\"4\" valign=\"top\">4.555</th>\n",
              "      <th>0.034329</th>\n",
              "      <th>110.1544</th>\n",
              "      <th>1987</th>\n",
              "      <th>3.000000</th>\n",
              "      <th>1230.3984</th>\n",
              "    </tr>\n",
              "    <tr>\n",
              "      <th>0.034351</th>\n",
              "      <th>112.7544</th>\n",
              "      <th>2004</th>\n",
              "      <th>1.000000</th>\n",
              "      <th>1789.6704</th>\n",
              "    </tr>\n",
              "    <tr>\n",
              "      <th>0.034357</th>\n",
              "      <th>112.6544</th>\n",
              "      <th>1997</th>\n",
              "      <th>1.000000</th>\n",
              "      <th>2684.5056</th>\n",
              "    </tr>\n",
              "    <tr>\n",
              "      <th>0.034411</th>\n",
              "      <th>111.3544</th>\n",
              "      <th>1999</th>\n",
              "      <th>2.000000</th>\n",
              "      <th>1342.2528</th>\n",
              "    </tr>\n",
              "    <tr>\n",
              "      <th>4.590</th>\n",
              "      <th>0.000000</th>\n",
              "      <th>111.1860</th>\n",
              "      <th>2002</th>\n",
              "      <th>1.761819</th>\n",
              "      <th>1245.0460</th>\n",
              "    </tr>\n",
              "    <tr>\n",
              "      <th>...</th>\n",
              "      <th>...</th>\n",
              "      <th>...</th>\n",
              "      <th>...</th>\n",
              "      <th>...</th>\n",
              "      <th>...</th>\n",
              "    </tr>\n",
              "    <tr>\n",
              "      <th rowspan=\"5\" valign=\"top\">21.350</th>\n",
              "      <th>0.068822</th>\n",
              "      <th>258.3278</th>\n",
              "      <th>1997</th>\n",
              "      <th>1.000000</th>\n",
              "      <th>7028.8506</th>\n",
              "    </tr>\n",
              "    <tr>\n",
              "      <th>0.069103</th>\n",
              "      <th>259.9278</th>\n",
              "      <th>2009</th>\n",
              "      <th>2.000000</th>\n",
              "      <th>6768.5228</th>\n",
              "    </tr>\n",
              "    <tr>\n",
              "      <th>0.078061</th>\n",
              "      <th>96.0094</th>\n",
              "      <th>2009</th>\n",
              "      <th>2.000000</th>\n",
              "      <th>380.8376</th>\n",
              "    </tr>\n",
              "    <tr>\n",
              "      <th>0.115195</th>\n",
              "      <th>258.3278</th>\n",
              "      <th>1998</th>\n",
              "      <th>1.761819</th>\n",
              "      <th>520.6556</th>\n",
              "    </tr>\n",
              "    <tr>\n",
              "      <th>0.130127</th>\n",
              "      <th>96.2094</th>\n",
              "      <th>1998</th>\n",
              "      <th>1.761819</th>\n",
              "      <th>190.4188</th>\n",
              "    </tr>\n",
              "  </tbody>\n",
              "</table>\n",
              "<p>8523 rows × 0 columns</p>\n",
              "</div>\n",
              "      <button class=\"colab-df-convert\" onclick=\"convertToInteractive('df-46c7f249-2db6-4b5a-aaf6-4626b1d8b158')\"\n",
              "              title=\"Convert this dataframe to an interactive table.\"\n",
              "              style=\"display:none;\">\n",
              "        \n",
              "  <svg xmlns=\"http://www.w3.org/2000/svg\" height=\"24px\"viewBox=\"0 0 24 24\"\n",
              "       width=\"24px\">\n",
              "    <path d=\"M0 0h24v24H0V0z\" fill=\"none\"/>\n",
              "    <path d=\"M18.56 5.44l.94 2.06.94-2.06 2.06-.94-2.06-.94-.94-2.06-.94 2.06-2.06.94zm-11 1L8.5 8.5l.94-2.06 2.06-.94-2.06-.94L8.5 2.5l-.94 2.06-2.06.94zm10 10l.94 2.06.94-2.06 2.06-.94-2.06-.94-.94-2.06-.94 2.06-2.06.94z\"/><path d=\"M17.41 7.96l-1.37-1.37c-.4-.4-.92-.59-1.43-.59-.52 0-1.04.2-1.43.59L10.3 9.45l-7.72 7.72c-.78.78-.78 2.05 0 2.83L4 21.41c.39.39.9.59 1.41.59.51 0 1.02-.2 1.41-.59l7.78-7.78 2.81-2.81c.8-.78.8-2.07 0-2.86zM5.41 20L4 18.59l7.72-7.72 1.47 1.35L5.41 20z\"/>\n",
              "  </svg>\n",
              "      </button>\n",
              "      \n",
              "  <style>\n",
              "    .colab-df-container {\n",
              "      display:flex;\n",
              "      flex-wrap:wrap;\n",
              "      gap: 12px;\n",
              "    }\n",
              "\n",
              "    .colab-df-convert {\n",
              "      background-color: #E8F0FE;\n",
              "      border: none;\n",
              "      border-radius: 50%;\n",
              "      cursor: pointer;\n",
              "      display: none;\n",
              "      fill: #1967D2;\n",
              "      height: 32px;\n",
              "      padding: 0 0 0 0;\n",
              "      width: 32px;\n",
              "    }\n",
              "\n",
              "    .colab-df-convert:hover {\n",
              "      background-color: #E2EBFA;\n",
              "      box-shadow: 0px 1px 2px rgba(60, 64, 67, 0.3), 0px 1px 3px 1px rgba(60, 64, 67, 0.15);\n",
              "      fill: #174EA6;\n",
              "    }\n",
              "\n",
              "    [theme=dark] .colab-df-convert {\n",
              "      background-color: #3B4455;\n",
              "      fill: #D2E3FC;\n",
              "    }\n",
              "\n",
              "    [theme=dark] .colab-df-convert:hover {\n",
              "      background-color: #434B5C;\n",
              "      box-shadow: 0px 1px 3px 1px rgba(0, 0, 0, 0.15);\n",
              "      filter: drop-shadow(0px 1px 2px rgba(0, 0, 0, 0.3));\n",
              "      fill: #FFFFFF;\n",
              "    }\n",
              "  </style>\n",
              "\n",
              "      <script>\n",
              "        const buttonEl =\n",
              "          document.querySelector('#df-46c7f249-2db6-4b5a-aaf6-4626b1d8b158 button.colab-df-convert');\n",
              "        buttonEl.style.display =\n",
              "          google.colab.kernel.accessAllowed ? 'block' : 'none';\n",
              "\n",
              "        async function convertToInteractive(key) {\n",
              "          const element = document.querySelector('#df-46c7f249-2db6-4b5a-aaf6-4626b1d8b158');\n",
              "          const dataTable =\n",
              "            await google.colab.kernel.invokeFunction('convertToInteractive',\n",
              "                                                     [key], {});\n",
              "          if (!dataTable) return;\n",
              "\n",
              "          const docLinkHtml = 'Like what you see? Visit the ' +\n",
              "            '<a target=\"_blank\" href=https://colab.research.google.com/notebooks/data_table.ipynb>data table notebook</a>'\n",
              "            + ' to learn more about interactive tables.';\n",
              "          element.innerHTML = '';\n",
              "          dataTable['output_type'] = 'display_data';\n",
              "          await google.colab.output.renderOutput(dataTable, element);\n",
              "          const docLink = document.createElement('div');\n",
              "          docLink.innerHTML = docLinkHtml;\n",
              "          element.appendChild(docLink);\n",
              "        }\n",
              "      </script>\n",
              "    </div>\n",
              "  </div>\n",
              "  "
            ]
          },
          "metadata": {},
          "execution_count": 24
        }
      ]
    }
  ]
}