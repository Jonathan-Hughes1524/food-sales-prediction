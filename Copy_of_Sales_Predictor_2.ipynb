{
  "nbformat": 4,
  "nbformat_minor": 0,
  "metadata": {
    "colab": {
      "name": "Copy of Sales Predictor_2",
      "provenance": [],
      "authorship_tag": "ABX9TyM1Ox46/rCvfI1nn1J5R+on",
      "include_colab_link": true
    },
    "kernelspec": {
      "name": "python3",
      "display_name": "Python 3"
    },
    "language_info": {
      "name": "python"
    }
  },
  "cells": [
    {
      "cell_type": "markdown",
      "metadata": {
        "id": "view-in-github",
        "colab_type": "text"
      },
      "source": [
        "<a href=\"https://colab.research.google.com/github/Jonathan-Hughes1524/food-sales-prediction/blob/main/Copy_of_Sales_Predictor_2.ipynb\" target=\"_parent\"><img src=\"https://colab.research.google.com/assets/colab-badge.svg\" alt=\"Open In Colab\"/></a>"
      ]
    },
    {
      "cell_type": "markdown",
      "source": [
        "#Importing/Loading Data"
      ],
      "metadata": {
        "id": "Y_vTeqF8U02n"
      }
    },
    {
      "cell_type": "code",
      "source": [
        "# Mounting Drive\n",
        "from google.colab import drive\n",
        "drive.mount('/content/drive')"
      ],
      "metadata": {
        "colab": {
          "base_uri": "https://localhost:8080/"
        },
        "id": "_zv3Hx_gU51u",
        "outputId": "de822b6c-1003-4efd-899b-e07bcd9e5bdf"
      },
      "execution_count": 1,
      "outputs": [
        {
          "output_type": "stream",
          "name": "stdout",
          "text": [
            "Mounted at /content/drive\n"
          ]
        }
      ]
    },
    {
      "cell_type": "code",
      "source": [
        "#Import Libraries\n",
        "import pandas as pd"
      ],
      "metadata": {
        "id": "xvEBY2paU8Dq"
      },
      "execution_count": 2,
      "outputs": []
    },
    {
      "cell_type": "code",
      "source": [
        "#Load the Dataset\n",
        "filename = '/content/drive/MyDrive/Coding Dojo/01 Week 1: Python/sales_predictions (1).csv'\n",
        "df = pd.read_csv(filename)\n",
        "df.head()"
      ],
      "metadata": {
        "colab": {
          "base_uri": "https://localhost:8080/",
          "height": 357
        },
        "id": "ZzxBDEk8U-VN",
        "outputId": "613da505-f143-42a7-b2c9-168523fc3086"
      },
      "execution_count": 3,
      "outputs": [
        {
          "output_type": "execute_result",
          "data": {
            "text/plain": [
              "  Item_Identifier  Item_Weight Item_Fat_Content  Item_Visibility  \\\n",
              "0           FDA15         9.30          Low Fat         0.016047   \n",
              "1           DRC01         5.92          Regular         0.019278   \n",
              "2           FDN15        17.50          Low Fat         0.016760   \n",
              "3           FDX07        19.20          Regular         0.000000   \n",
              "4           NCD19         8.93          Low Fat         0.000000   \n",
              "\n",
              "               Item_Type  Item_MRP Outlet_Identifier  \\\n",
              "0                  Dairy  249.8092            OUT049   \n",
              "1            Soft Drinks   48.2692            OUT018   \n",
              "2                   Meat  141.6180            OUT049   \n",
              "3  Fruits and Vegetables  182.0950            OUT010   \n",
              "4              Household   53.8614            OUT013   \n",
              "\n",
              "   Outlet_Establishment_Year Outlet_Size Outlet_Location_Type  \\\n",
              "0                       1999      Medium               Tier 1   \n",
              "1                       2009      Medium               Tier 3   \n",
              "2                       1999      Medium               Tier 1   \n",
              "3                       1998         NaN               Tier 3   \n",
              "4                       1987        High               Tier 3   \n",
              "\n",
              "         Outlet_Type  Item_Outlet_Sales  \n",
              "0  Supermarket Type1          3735.1380  \n",
              "1  Supermarket Type2           443.4228  \n",
              "2  Supermarket Type1          2097.2700  \n",
              "3      Grocery Store           732.3800  \n",
              "4  Supermarket Type1           994.7052  "
            ],
            "text/html": [
              "\n",
              "  <div id=\"df-82898fdf-2527-47cc-a712-8262438e76a9\">\n",
              "    <div class=\"colab-df-container\">\n",
              "      <div>\n",
              "<style scoped>\n",
              "    .dataframe tbody tr th:only-of-type {\n",
              "        vertical-align: middle;\n",
              "    }\n",
              "\n",
              "    .dataframe tbody tr th {\n",
              "        vertical-align: top;\n",
              "    }\n",
              "\n",
              "    .dataframe thead th {\n",
              "        text-align: right;\n",
              "    }\n",
              "</style>\n",
              "<table border=\"1\" class=\"dataframe\">\n",
              "  <thead>\n",
              "    <tr style=\"text-align: right;\">\n",
              "      <th></th>\n",
              "      <th>Item_Identifier</th>\n",
              "      <th>Item_Weight</th>\n",
              "      <th>Item_Fat_Content</th>\n",
              "      <th>Item_Visibility</th>\n",
              "      <th>Item_Type</th>\n",
              "      <th>Item_MRP</th>\n",
              "      <th>Outlet_Identifier</th>\n",
              "      <th>Outlet_Establishment_Year</th>\n",
              "      <th>Outlet_Size</th>\n",
              "      <th>Outlet_Location_Type</th>\n",
              "      <th>Outlet_Type</th>\n",
              "      <th>Item_Outlet_Sales</th>\n",
              "    </tr>\n",
              "  </thead>\n",
              "  <tbody>\n",
              "    <tr>\n",
              "      <th>0</th>\n",
              "      <td>FDA15</td>\n",
              "      <td>9.30</td>\n",
              "      <td>Low Fat</td>\n",
              "      <td>0.016047</td>\n",
              "      <td>Dairy</td>\n",
              "      <td>249.8092</td>\n",
              "      <td>OUT049</td>\n",
              "      <td>1999</td>\n",
              "      <td>Medium</td>\n",
              "      <td>Tier 1</td>\n",
              "      <td>Supermarket Type1</td>\n",
              "      <td>3735.1380</td>\n",
              "    </tr>\n",
              "    <tr>\n",
              "      <th>1</th>\n",
              "      <td>DRC01</td>\n",
              "      <td>5.92</td>\n",
              "      <td>Regular</td>\n",
              "      <td>0.019278</td>\n",
              "      <td>Soft Drinks</td>\n",
              "      <td>48.2692</td>\n",
              "      <td>OUT018</td>\n",
              "      <td>2009</td>\n",
              "      <td>Medium</td>\n",
              "      <td>Tier 3</td>\n",
              "      <td>Supermarket Type2</td>\n",
              "      <td>443.4228</td>\n",
              "    </tr>\n",
              "    <tr>\n",
              "      <th>2</th>\n",
              "      <td>FDN15</td>\n",
              "      <td>17.50</td>\n",
              "      <td>Low Fat</td>\n",
              "      <td>0.016760</td>\n",
              "      <td>Meat</td>\n",
              "      <td>141.6180</td>\n",
              "      <td>OUT049</td>\n",
              "      <td>1999</td>\n",
              "      <td>Medium</td>\n",
              "      <td>Tier 1</td>\n",
              "      <td>Supermarket Type1</td>\n",
              "      <td>2097.2700</td>\n",
              "    </tr>\n",
              "    <tr>\n",
              "      <th>3</th>\n",
              "      <td>FDX07</td>\n",
              "      <td>19.20</td>\n",
              "      <td>Regular</td>\n",
              "      <td>0.000000</td>\n",
              "      <td>Fruits and Vegetables</td>\n",
              "      <td>182.0950</td>\n",
              "      <td>OUT010</td>\n",
              "      <td>1998</td>\n",
              "      <td>NaN</td>\n",
              "      <td>Tier 3</td>\n",
              "      <td>Grocery Store</td>\n",
              "      <td>732.3800</td>\n",
              "    </tr>\n",
              "    <tr>\n",
              "      <th>4</th>\n",
              "      <td>NCD19</td>\n",
              "      <td>8.93</td>\n",
              "      <td>Low Fat</td>\n",
              "      <td>0.000000</td>\n",
              "      <td>Household</td>\n",
              "      <td>53.8614</td>\n",
              "      <td>OUT013</td>\n",
              "      <td>1987</td>\n",
              "      <td>High</td>\n",
              "      <td>Tier 3</td>\n",
              "      <td>Supermarket Type1</td>\n",
              "      <td>994.7052</td>\n",
              "    </tr>\n",
              "  </tbody>\n",
              "</table>\n",
              "</div>\n",
              "      <button class=\"colab-df-convert\" onclick=\"convertToInteractive('df-82898fdf-2527-47cc-a712-8262438e76a9')\"\n",
              "              title=\"Convert this dataframe to an interactive table.\"\n",
              "              style=\"display:none;\">\n",
              "        \n",
              "  <svg xmlns=\"http://www.w3.org/2000/svg\" height=\"24px\"viewBox=\"0 0 24 24\"\n",
              "       width=\"24px\">\n",
              "    <path d=\"M0 0h24v24H0V0z\" fill=\"none\"/>\n",
              "    <path d=\"M18.56 5.44l.94 2.06.94-2.06 2.06-.94-2.06-.94-.94-2.06-.94 2.06-2.06.94zm-11 1L8.5 8.5l.94-2.06 2.06-.94-2.06-.94L8.5 2.5l-.94 2.06-2.06.94zm10 10l.94 2.06.94-2.06 2.06-.94-2.06-.94-.94-2.06-.94 2.06-2.06.94z\"/><path d=\"M17.41 7.96l-1.37-1.37c-.4-.4-.92-.59-1.43-.59-.52 0-1.04.2-1.43.59L10.3 9.45l-7.72 7.72c-.78.78-.78 2.05 0 2.83L4 21.41c.39.39.9.59 1.41.59.51 0 1.02-.2 1.41-.59l7.78-7.78 2.81-2.81c.8-.78.8-2.07 0-2.86zM5.41 20L4 18.59l7.72-7.72 1.47 1.35L5.41 20z\"/>\n",
              "  </svg>\n",
              "      </button>\n",
              "      \n",
              "  <style>\n",
              "    .colab-df-container {\n",
              "      display:flex;\n",
              "      flex-wrap:wrap;\n",
              "      gap: 12px;\n",
              "    }\n",
              "\n",
              "    .colab-df-convert {\n",
              "      background-color: #E8F0FE;\n",
              "      border: none;\n",
              "      border-radius: 50%;\n",
              "      cursor: pointer;\n",
              "      display: none;\n",
              "      fill: #1967D2;\n",
              "      height: 32px;\n",
              "      padding: 0 0 0 0;\n",
              "      width: 32px;\n",
              "    }\n",
              "\n",
              "    .colab-df-convert:hover {\n",
              "      background-color: #E2EBFA;\n",
              "      box-shadow: 0px 1px 2px rgba(60, 64, 67, 0.3), 0px 1px 3px 1px rgba(60, 64, 67, 0.15);\n",
              "      fill: #174EA6;\n",
              "    }\n",
              "\n",
              "    [theme=dark] .colab-df-convert {\n",
              "      background-color: #3B4455;\n",
              "      fill: #D2E3FC;\n",
              "    }\n",
              "\n",
              "    [theme=dark] .colab-df-convert:hover {\n",
              "      background-color: #434B5C;\n",
              "      box-shadow: 0px 1px 3px 1px rgba(0, 0, 0, 0.15);\n",
              "      filter: drop-shadow(0px 1px 2px rgba(0, 0, 0, 0.3));\n",
              "      fill: #FFFFFF;\n",
              "    }\n",
              "  </style>\n",
              "\n",
              "      <script>\n",
              "        const buttonEl =\n",
              "          document.querySelector('#df-82898fdf-2527-47cc-a712-8262438e76a9 button.colab-df-convert');\n",
              "        buttonEl.style.display =\n",
              "          google.colab.kernel.accessAllowed ? 'block' : 'none';\n",
              "\n",
              "        async function convertToInteractive(key) {\n",
              "          const element = document.querySelector('#df-82898fdf-2527-47cc-a712-8262438e76a9');\n",
              "          const dataTable =\n",
              "            await google.colab.kernel.invokeFunction('convertToInteractive',\n",
              "                                                     [key], {});\n",
              "          if (!dataTable) return;\n",
              "\n",
              "          const docLinkHtml = 'Like what you see? Visit the ' +\n",
              "            '<a target=\"_blank\" href=https://colab.research.google.com/notebooks/data_table.ipynb>data table notebook</a>'\n",
              "            + ' to learn more about interactive tables.';\n",
              "          element.innerHTML = '';\n",
              "          dataTable['output_type'] = 'display_data';\n",
              "          await google.colab.output.renderOutput(dataTable, element);\n",
              "          const docLink = document.createElement('div');\n",
              "          docLink.innerHTML = docLinkHtml;\n",
              "          element.appendChild(docLink);\n",
              "        }\n",
              "      </script>\n",
              "    </div>\n",
              "  </div>\n",
              "  "
            ]
          },
          "metadata": {},
          "execution_count": 3
        }
      ]
    },
    {
      "cell_type": "markdown",
      "source": [
        "# Data Cleaning"
      ],
      "metadata": {
        "id": "iT4bEiPkVDsx"
      }
    },
    {
      "cell_type": "code",
      "source": [
        "# Gathering Data Information\n",
        "df.info()"
      ],
      "metadata": {
        "colab": {
          "base_uri": "https://localhost:8080/"
        },
        "id": "ajazzUirVAgV",
        "outputId": "fc4a09c5-c083-4f47-f100-aeca314c1425"
      },
      "execution_count": 4,
      "outputs": [
        {
          "output_type": "stream",
          "name": "stdout",
          "text": [
            "<class 'pandas.core.frame.DataFrame'>\n",
            "RangeIndex: 8523 entries, 0 to 8522\n",
            "Data columns (total 12 columns):\n",
            " #   Column                     Non-Null Count  Dtype  \n",
            "---  ------                     --------------  -----  \n",
            " 0   Item_Identifier            8523 non-null   object \n",
            " 1   Item_Weight                7060 non-null   float64\n",
            " 2   Item_Fat_Content           8523 non-null   object \n",
            " 3   Item_Visibility            8523 non-null   float64\n",
            " 4   Item_Type                  8523 non-null   object \n",
            " 5   Item_MRP                   8523 non-null   float64\n",
            " 6   Outlet_Identifier          8523 non-null   object \n",
            " 7   Outlet_Establishment_Year  8523 non-null   int64  \n",
            " 8   Outlet_Size                6113 non-null   object \n",
            " 9   Outlet_Location_Type       8523 non-null   object \n",
            " 10  Outlet_Type                8523 non-null   object \n",
            " 11  Item_Outlet_Sales          8523 non-null   float64\n",
            "dtypes: float64(4), int64(1), object(7)\n",
            "memory usage: 799.2+ KB\n"
          ]
        }
      ]
    },
    {
      "cell_type": "code",
      "source": [
        "#Checking for Duplicates\n",
        "df.duplicated().sum()"
      ],
      "metadata": {
        "colab": {
          "base_uri": "https://localhost:8080/"
        },
        "id": "ukNs8XIAVJUQ",
        "outputId": "5d0e12fb-3e1e-4115-8099-5be77b1da786"
      },
      "execution_count": 5,
      "outputs": [
        {
          "output_type": "execute_result",
          "data": {
            "text/plain": [
              "0"
            ]
          },
          "metadata": {},
          "execution_count": 5
        }
      ]
    },
    {
      "cell_type": "code",
      "source": [
        "# Checking for missing data\n",
        "df.isna().sum()"
      ],
      "metadata": {
        "colab": {
          "base_uri": "https://localhost:8080/"
        },
        "id": "Wo4pBV7HVPXh",
        "outputId": "a4afc280-4608-4ca9-9447-db1d9c01c25f"
      },
      "execution_count": 6,
      "outputs": [
        {
          "output_type": "execute_result",
          "data": {
            "text/plain": [
              "Item_Identifier                 0\n",
              "Item_Weight                  1463\n",
              "Item_Fat_Content                0\n",
              "Item_Visibility                 0\n",
              "Item_Type                       0\n",
              "Item_MRP                        0\n",
              "Outlet_Identifier               0\n",
              "Outlet_Establishment_Year       0\n",
              "Outlet_Size                  2410\n",
              "Outlet_Location_Type            0\n",
              "Outlet_Type                     0\n",
              "Item_Outlet_Sales               0\n",
              "dtype: int64"
            ]
          },
          "metadata": {},
          "execution_count": 6
        }
      ]
    },
    {
      "cell_type": "markdown",
      "source": [
        "For the Item_Weight I chose to take the average weight of the items. I felt with the data that was already known this would give a good data to fill the missing. I did not want to drop this data becasue shipping costs would affect the price of the product. Which in turn could affect the sales of the product.\n",
        "I also chose do the msot frequent for the store size. The size of the store could impact the amount sold. "
      ],
      "metadata": {
        "id": "5akhw3DUVU86"
      }
    },
    {
      "cell_type": "code",
      "source": [
        "#Fixing missing item weight\n",
        "item_weight_mean = df['Item_Weight'].mean()\n",
        "df['Item_Weight'].fillna(item_weight_mean, inplace = True)\n",
        "df.isna().sum()"
      ],
      "metadata": {
        "colab": {
          "base_uri": "https://localhost:8080/"
        },
        "id": "I8CWta0qVUAb",
        "outputId": "ee616756-dfc5-41ed-ea80-5bb78d0ad94c"
      },
      "execution_count": 7,
      "outputs": [
        {
          "output_type": "execute_result",
          "data": {
            "text/plain": [
              "Item_Identifier                 0\n",
              "Item_Weight                     0\n",
              "Item_Fat_Content                0\n",
              "Item_Visibility                 0\n",
              "Item_Type                       0\n",
              "Item_MRP                        0\n",
              "Outlet_Identifier               0\n",
              "Outlet_Establishment_Year       0\n",
              "Outlet_Size                  2410\n",
              "Outlet_Location_Type            0\n",
              "Outlet_Type                     0\n",
              "Item_Outlet_Sales               0\n",
              "dtype: int64"
            ]
          },
          "metadata": {},
          "execution_count": 7
        }
      ]
    },
    {
      "cell_type": "code",
      "source": [
        "#Fixing missing outlet size\n",
        "outlet_size_mode = df['Outlet_Size'].mode()\n",
        "df['Outlet_Size'].fillna(outlet_size_mode, inplace = True)\n",
        "df.isna().sum()"
      ],
      "metadata": {
        "colab": {
          "base_uri": "https://localhost:8080/"
        },
        "id": "yX56dzJHVeNM",
        "outputId": "46e04d5d-5c91-41bf-c41e-44e809b6c733"
      },
      "execution_count": 8,
      "outputs": [
        {
          "output_type": "execute_result",
          "data": {
            "text/plain": [
              "Item_Identifier                 0\n",
              "Item_Weight                     0\n",
              "Item_Fat_Content                0\n",
              "Item_Visibility                 0\n",
              "Item_Type                       0\n",
              "Item_MRP                        0\n",
              "Outlet_Identifier               0\n",
              "Outlet_Establishment_Year       0\n",
              "Outlet_Size                  2410\n",
              "Outlet_Location_Type            0\n",
              "Outlet_Type                     0\n",
              "Item_Outlet_Sales               0\n",
              "dtype: int64"
            ]
          },
          "metadata": {},
          "execution_count": 8
        }
      ]
    },
    {
      "cell_type": "code",
      "source": [
        "#Fixing inconsistent data\n",
        "df['Item_Fat_Content'] = df['Item_Fat_Content'].replace('LF', 'Low Fat')\n",
        "df['Item_Fat_Content'] = df['Item_Fat_Content'].replace('low fat', 'Low Fat')\n",
        "df['Item_Fat_Content'] = df['Item_Fat_Content'].replace('reg', 'Regular')\n",
        "df['Item_Fat_Content'].value_counts()"
      ],
      "metadata": {
        "colab": {
          "base_uri": "https://localhost:8080/"
        },
        "id": "rFtJtZfOVi89",
        "outputId": "bce5394e-ccc7-4498-978d-b50902934efa"
      },
      "execution_count": 9,
      "outputs": [
        {
          "output_type": "execute_result",
          "data": {
            "text/plain": [
              "Low Fat    5517\n",
              "Regular    3006\n",
              "Name: Item_Fat_Content, dtype: int64"
            ]
          },
          "metadata": {},
          "execution_count": 9
        }
      ]
    },
    {
      "cell_type": "code",
      "source": [
        "#Find min, max and mean by groups\n",
        "df.groupby(['Item_Weight', 'Item_Visibility','Item_MRP','Outlet_Establishment_Year','Outlet_Size','Item_Outlet_Sales']).min()\n",
        "df.groupby(['Item_Weight', 'Item_Visibility','Item_MRP','Outlet_Establishment_Year','Outlet_Size','Item_Outlet_Sales']).max()\n",
        "df.groupby(['Item_Weight', 'Item_Visibility','Item_MRP','Outlet_Establishment_Year','Outlet_Size','Item_Outlet_Sales']).mean()"
      ],
      "metadata": {
        "colab": {
          "base_uri": "https://localhost:8080/",
          "height": 494
        },
        "id": "jededaA83V6Q",
        "outputId": "466ad93a-6b17-4a9d-dd7e-9efc28b6fee0"
      },
      "execution_count": 10,
      "outputs": [
        {
          "output_type": "stream",
          "name": "stderr",
          "text": [
            "/usr/local/lib/python3.7/dist-packages/IPython/core/interactiveshell.py:2882: FutureWarning: Dropping invalid columns in DataFrameGroupBy.mean is deprecated. In a future version, a TypeError will be raised. Before calling .mean, select only columns which should be valid for the function.\n",
            "  exec(code_obj, self.user_global_ns, self.user_ns)\n"
          ]
        },
        {
          "output_type": "execute_result",
          "data": {
            "text/plain": [
              "Empty DataFrame\n",
              "Columns: []\n",
              "Index: [(4.555, 0.034328578, 110.1544, 1987, High, 1230.3984), (4.555, 0.034350673, 112.7544, 2004, Small, 1789.6704), (4.555, 0.034357169, 112.6544, 1997, Small, 2684.5056), (4.555, 0.034410585, 111.3544, 1999, Medium, 1342.2528), (4.59, 0.070721656, 113.286, 1987, High, 1471.418), (4.59, 0.070767174, 111.986, 2004, Small, 792.302), (4.59, 0.070780558, 114.586, 1997, Small, 1245.046), (4.59, 0.070890602, 111.686, 1999, Medium, 1584.604), (4.61, 0.0, 173.8396, 1997, Small, 1221.0772), (4.61, 0.122629121, 175.4396, 2004, Small, 2616.594), (4.61, 0.122843005, 172.4396, 1999, Medium, 1569.9564), (4.61, 0.123151947, 175.2396, 2009, Medium, 2093.2752), (4.615, 0.101747034, 231.33, 1987, High, 4660.6), (4.615, 0.101812521, 232.23, 2004, Small, 5126.66), (4.635, 0.14086247, 126.4994, 2004, Small, 1670.4922), (4.635, 0.140889111, 127.0994, 1997, Small, 1927.491), (4.635, 0.141108156, 128.2994, 1999, Medium, 2698.4874), (4.785, 0.092516598, 120.1098, 1987, High, 1325.6078), (4.785, 0.092576144, 121.0098, 2004, Small, 2530.7058), (4.785, 0.09297084, 122.0098, 2009, Medium, 2048.6666), (4.805, 0.037668051, 126.7704, 1987, High, 2628.5784), (4.805, 0.037699423, 125.5704, 1997, Small, 3880.2824), (4.805, 0.037852995, 126.2704, 2009, Medium, 3629.9416), (4.88, 0.0, 53.1298, 2004, Small, 808.947), (4.88, 0.133382115, 55.0298, 1987, High, 647.1576), (4.88, 0.133700752, 52.9298, 1999, Medium, 1995.4026), (4.88, 0.134037, 53.3298, 2009, Medium, 539.298), (4.905, 0.117308165, 195.7768, 2004, Small, 2956.152), (4.92, 0.045916788, 198.8084, 1987, High, 2976.126), (4.92, 0.045955031, 199.1084, 1997, Small, 2182.4924), (4.92, 0.046026479, 196.5084, 1999, Medium, 3769.7596), (4.92, 0.046142232, 199.1084, 2009, Medium, 4761.8016), (5.0, 0.044004675, 188.853, 1997, Small, 5502.837), (5.03, 0.008639333, 122.2756, 1987, High, 2059.9852), (5.03, 0.008644894, 122.6756, 2004, Small, 2665.8632), (5.035, 0.0, 228.2036, 1997, Small, 4781.7756), (5.035, 0.079844043, 226.3036, 1987, High, 4098.6648), (5.095, 0.129395895, 140.3838, 1987, High, 1826.2894), (5.095, 0.129479176, 139.7838, 2004, Small, 1264.3542), (5.095, 0.129705008, 141.8838, 1999, Medium, 1966.7732), (5.095, 0.130031207, 142.4838, 2009, Medium, 561.9352), (5.11, 0.0, 164.721, 2009, Medium, 3588.662), (5.11, 0.034868095, 163.821, 2004, Small, 2120.573), (5.11, 0.034874689, 161.721, 1997, Small, 2446.815), (5.15, 0.06112617, 122.5388, 1987, High, 371.5164), (5.15, 0.061165512, 125.6388, 2004, Small, 2848.2924), (5.15, 0.06117708, 121.8388, 1997, Small, 3219.8088), (5.15, 0.061272194, 125.6388, 1999, Medium, 1733.7432), (5.155, 0.083198341, 246.0776, 1997, Small, 990.7104), (5.155, 0.083327693, 247.2776, 1999, Medium, 5944.2624), (5.175, 0.029471408, 105.4622, 1987, High, 3281.7282), (5.175, 0.029490377, 107.6622, 2004, Small, 2858.2794), (5.175, 0.029616108, 107.7622, 2009, Medium, 2011.3818), (5.175, 0.030330202, 35.4874, 1987, High, 388.1614), (5.175, 0.030349723, 37.0874, 2004, Small, 423.4488), (5.175, 0.030479118, 33.2874, 2009, Medium, 635.1732), (5.175, 0.03736783, 86.9224, 1987, High, 255.6672), (5.175, 0.037391881, 83.2224, 2004, Small, 1789.6704), (5.175, 0.037398953, 84.2224, 1997, Small, 852.224), (5.175, 0.037457098, 83.4224, 1999, Medium, 1448.7808), (5.19, 0.042687151, 195.911, 1999, Medium, 2946.165), (5.19, 0.044252621, 102.599, 1997, Small, 1651.184), (5.19, 0.044321422, 103.899, 1999, Medium, 2889.572), (5.19, 0.044432887, 102.899, 2009, Medium, 1651.184), (5.21, 0.011007815, 259.5962, 2004, Small, 2848.9582), (5.26, 0.02454694, 95.7068, 1999, Medium, 1166.4816), (5.26, 0.041764487, 161.8868, 2004, Small, 3275.736), (5.26, 0.041837331, 161.8868, 1999, Medium, 5077.3908), (5.26, 0.041942549, 165.4868, 2009, Medium, 2293.0152), (5.305, 0.04710181, 181.8608, 1999, Medium, 4594.02), (5.305, 0.047220268, 181.9608, 2009, Medium, 2388.8904), (5.32, 0.0, 101.7674, 1987, High, 1120.5414), (5.32, 0.092865746, 100.6674, 2004, Small, 2648.5524), (5.32, 0.093027718, 101.4674, 1999, Medium, 2954.1546), (5.32, 0.093261677, 100.9674, 2009, Medium, 1222.4088), (5.325, 0.0, 55.8298, 2004, Small, 485.3682), (5.325, 0.138679995, 53.7298, 1997, Small, 862.8768), (5.325, 0.139244918, 53.0298, 2009, Medium, 377.5086), (5.34, 0.005958918, 101.6358, 1987, High, 1709.1086), (5.34, 0.005962753, 102.4358, 2004, Small, 2010.716), (5.34, 0.005963881, 99.5358, 1997, Small, 1407.5012), (5.365, 0.140123575, 172.0764, 1987, High, 2748.4224), (5.365, 0.140213762, 173.7764, 2004, Small, 4637.9628), (5.365, 0.14024028, 171.0764, 1997, Small, 3263.7516), (5.365, 0.140458316, 169.7764, 1999, Medium, 3263.7516), (5.365, 0.140811559, 173.5764, 2009, Medium, 2061.3168), (5.405, 0.053576661, 200.5742, 1987, High, 2388.8904), (5.405, 0.053611144, 197.7742, 2004, Small, 796.2968), (5.405, 0.053839714, 198.6742, 2009, Medium, 2388.8904), (5.425, 0.114472403, 88.3514, 1997, Small, 2833.6448), (5.44, 0.017047751, 174.637, 1987, High, 2999.429), (5.44, 0.025458716, 241.2538, 1987, High, 3124.5994), (5.44, 0.025519534, 238.7538, 1999, Medium, 3605.307), (5.44, 0.025583714, 239.1538, 2009, Medium, 480.7076), (5.46, 0.03217132, 184.824, 2004, Small, 4287.752), (5.46, 0.032177405, 185.424, 1997, Small, 5219.872), (5.46, 0.032227432, 186.824, 1999, Medium, 1864.24), (5.46, 0.032308482, 185.224, 2009, Medium, 2423.512), (5.46, 0.106968096, 142.6786, 1987, High, 2311.6576), (5.46, 0.107036943, 144.2786, 2004, Small, 288.9572), ...]\n",
              "\n",
              "[6113 rows x 0 columns]"
            ],
            "text/html": [
              "\n",
              "  <div id=\"df-229fb616-2a40-48a5-9b09-4add58aadf18\">\n",
              "    <div class=\"colab-df-container\">\n",
              "      <div>\n",
              "<style scoped>\n",
              "    .dataframe tbody tr th:only-of-type {\n",
              "        vertical-align: middle;\n",
              "    }\n",
              "\n",
              "    .dataframe tbody tr th {\n",
              "        vertical-align: top;\n",
              "    }\n",
              "\n",
              "    .dataframe thead th {\n",
              "        text-align: right;\n",
              "    }\n",
              "</style>\n",
              "<table border=\"1\" class=\"dataframe\">\n",
              "  <thead>\n",
              "    <tr style=\"text-align: right;\">\n",
              "      <th></th>\n",
              "      <th></th>\n",
              "      <th></th>\n",
              "      <th></th>\n",
              "      <th></th>\n",
              "      <th></th>\n",
              "    </tr>\n",
              "    <tr>\n",
              "      <th>Item_Weight</th>\n",
              "      <th>Item_Visibility</th>\n",
              "      <th>Item_MRP</th>\n",
              "      <th>Outlet_Establishment_Year</th>\n",
              "      <th>Outlet_Size</th>\n",
              "      <th>Item_Outlet_Sales</th>\n",
              "    </tr>\n",
              "  </thead>\n",
              "  <tbody>\n",
              "    <tr>\n",
              "      <th rowspan=\"4\" valign=\"top\">4.555</th>\n",
              "      <th>0.034329</th>\n",
              "      <th>110.1544</th>\n",
              "      <th>1987</th>\n",
              "      <th>High</th>\n",
              "      <th>1230.3984</th>\n",
              "    </tr>\n",
              "    <tr>\n",
              "      <th>0.034351</th>\n",
              "      <th>112.7544</th>\n",
              "      <th>2004</th>\n",
              "      <th>Small</th>\n",
              "      <th>1789.6704</th>\n",
              "    </tr>\n",
              "    <tr>\n",
              "      <th>0.034357</th>\n",
              "      <th>112.6544</th>\n",
              "      <th>1997</th>\n",
              "      <th>Small</th>\n",
              "      <th>2684.5056</th>\n",
              "    </tr>\n",
              "    <tr>\n",
              "      <th>0.034411</th>\n",
              "      <th>111.3544</th>\n",
              "      <th>1999</th>\n",
              "      <th>Medium</th>\n",
              "      <th>1342.2528</th>\n",
              "    </tr>\n",
              "    <tr>\n",
              "      <th>4.590</th>\n",
              "      <th>0.070722</th>\n",
              "      <th>113.2860</th>\n",
              "      <th>1987</th>\n",
              "      <th>High</th>\n",
              "      <th>1471.4180</th>\n",
              "    </tr>\n",
              "    <tr>\n",
              "      <th>...</th>\n",
              "      <th>...</th>\n",
              "      <th>...</th>\n",
              "      <th>...</th>\n",
              "      <th>...</th>\n",
              "      <th>...</th>\n",
              "    </tr>\n",
              "    <tr>\n",
              "      <th rowspan=\"5\" valign=\"top\">21.350</th>\n",
              "      <th>0.068765</th>\n",
              "      <th>260.4278</th>\n",
              "      <th>1987</th>\n",
              "      <th>High</th>\n",
              "      <th>3644.5892</th>\n",
              "    </tr>\n",
              "    <tr>\n",
              "      <th>0.068809</th>\n",
              "      <th>258.5278</th>\n",
              "      <th>2004</th>\n",
              "      <th>Small</th>\n",
              "      <th>5206.5560</th>\n",
              "    </tr>\n",
              "    <tr>\n",
              "      <th>0.068822</th>\n",
              "      <th>258.3278</th>\n",
              "      <th>1997</th>\n",
              "      <th>Small</th>\n",
              "      <th>7028.8506</th>\n",
              "    </tr>\n",
              "    <tr>\n",
              "      <th>0.069103</th>\n",
              "      <th>259.9278</th>\n",
              "      <th>2009</th>\n",
              "      <th>Medium</th>\n",
              "      <th>6768.5228</th>\n",
              "    </tr>\n",
              "    <tr>\n",
              "      <th>0.078061</th>\n",
              "      <th>96.0094</th>\n",
              "      <th>2009</th>\n",
              "      <th>Medium</th>\n",
              "      <th>380.8376</th>\n",
              "    </tr>\n",
              "  </tbody>\n",
              "</table>\n",
              "<p>6113 rows × 0 columns</p>\n",
              "</div>\n",
              "      <button class=\"colab-df-convert\" onclick=\"convertToInteractive('df-229fb616-2a40-48a5-9b09-4add58aadf18')\"\n",
              "              title=\"Convert this dataframe to an interactive table.\"\n",
              "              style=\"display:none;\">\n",
              "        \n",
              "  <svg xmlns=\"http://www.w3.org/2000/svg\" height=\"24px\"viewBox=\"0 0 24 24\"\n",
              "       width=\"24px\">\n",
              "    <path d=\"M0 0h24v24H0V0z\" fill=\"none\"/>\n",
              "    <path d=\"M18.56 5.44l.94 2.06.94-2.06 2.06-.94-2.06-.94-.94-2.06-.94 2.06-2.06.94zm-11 1L8.5 8.5l.94-2.06 2.06-.94-2.06-.94L8.5 2.5l-.94 2.06-2.06.94zm10 10l.94 2.06.94-2.06 2.06-.94-2.06-.94-.94-2.06-.94 2.06-2.06.94z\"/><path d=\"M17.41 7.96l-1.37-1.37c-.4-.4-.92-.59-1.43-.59-.52 0-1.04.2-1.43.59L10.3 9.45l-7.72 7.72c-.78.78-.78 2.05 0 2.83L4 21.41c.39.39.9.59 1.41.59.51 0 1.02-.2 1.41-.59l7.78-7.78 2.81-2.81c.8-.78.8-2.07 0-2.86zM5.41 20L4 18.59l7.72-7.72 1.47 1.35L5.41 20z\"/>\n",
              "  </svg>\n",
              "      </button>\n",
              "      \n",
              "  <style>\n",
              "    .colab-df-container {\n",
              "      display:flex;\n",
              "      flex-wrap:wrap;\n",
              "      gap: 12px;\n",
              "    }\n",
              "\n",
              "    .colab-df-convert {\n",
              "      background-color: #E8F0FE;\n",
              "      border: none;\n",
              "      border-radius: 50%;\n",
              "      cursor: pointer;\n",
              "      display: none;\n",
              "      fill: #1967D2;\n",
              "      height: 32px;\n",
              "      padding: 0 0 0 0;\n",
              "      width: 32px;\n",
              "    }\n",
              "\n",
              "    .colab-df-convert:hover {\n",
              "      background-color: #E2EBFA;\n",
              "      box-shadow: 0px 1px 2px rgba(60, 64, 67, 0.3), 0px 1px 3px 1px rgba(60, 64, 67, 0.15);\n",
              "      fill: #174EA6;\n",
              "    }\n",
              "\n",
              "    [theme=dark] .colab-df-convert {\n",
              "      background-color: #3B4455;\n",
              "      fill: #D2E3FC;\n",
              "    }\n",
              "\n",
              "    [theme=dark] .colab-df-convert:hover {\n",
              "      background-color: #434B5C;\n",
              "      box-shadow: 0px 1px 3px 1px rgba(0, 0, 0, 0.15);\n",
              "      filter: drop-shadow(0px 1px 2px rgba(0, 0, 0, 0.3));\n",
              "      fill: #FFFFFF;\n",
              "    }\n",
              "  </style>\n",
              "\n",
              "      <script>\n",
              "        const buttonEl =\n",
              "          document.querySelector('#df-229fb616-2a40-48a5-9b09-4add58aadf18 button.colab-df-convert');\n",
              "        buttonEl.style.display =\n",
              "          google.colab.kernel.accessAllowed ? 'block' : 'none';\n",
              "\n",
              "        async function convertToInteractive(key) {\n",
              "          const element = document.querySelector('#df-229fb616-2a40-48a5-9b09-4add58aadf18');\n",
              "          const dataTable =\n",
              "            await google.colab.kernel.invokeFunction('convertToInteractive',\n",
              "                                                     [key], {});\n",
              "          if (!dataTable) return;\n",
              "\n",
              "          const docLinkHtml = 'Like what you see? Visit the ' +\n",
              "            '<a target=\"_blank\" href=https://colab.research.google.com/notebooks/data_table.ipynb>data table notebook</a>'\n",
              "            + ' to learn more about interactive tables.';\n",
              "          element.innerHTML = '';\n",
              "          dataTable['output_type'] = 'display_data';\n",
              "          await google.colab.output.renderOutput(dataTable, element);\n",
              "          const docLink = document.createElement('div');\n",
              "          docLink.innerHTML = docLinkHtml;\n",
              "          element.appendChild(docLink);\n",
              "        }\n",
              "      </script>\n",
              "    </div>\n",
              "  </div>\n",
              "  "
            ]
          },
          "metadata": {},
          "execution_count": 10
        }
      ]
    },
    {
      "cell_type": "markdown",
      "source": [
        "#Visualization of Data"
      ],
      "metadata": {
        "id": "txlEzOhmWIVR"
      }
    },
    {
      "cell_type": "code",
      "source": [
        "#Importing visualization libraries\n",
        "import matplotlib.pyplot as plt\n",
        "import numpy as np\n",
        "import seaborn as sns"
      ],
      "metadata": {
        "id": "8f732YIIWFy3"
      },
      "execution_count": 11,
      "outputs": []
    },
    {
      "cell_type": "code",
      "source": [
        "#Gathering Item weight info\n",
        "df['Item_Weight'].head()"
      ],
      "metadata": {
        "colab": {
          "base_uri": "https://localhost:8080/"
        },
        "id": "bY8VF38nWYC-",
        "outputId": "6ef49445-27fb-4e00-804a-0a1a4329c7f6"
      },
      "execution_count": 12,
      "outputs": [
        {
          "output_type": "execute_result",
          "data": {
            "text/plain": [
              "0     9.30\n",
              "1     5.92\n",
              "2    17.50\n",
              "3    19.20\n",
              "4     8.93\n",
              "Name: Item_Weight, dtype: float64"
            ]
          },
          "metadata": {},
          "execution_count": 12
        }
      ]
    },
    {
      "cell_type": "code",
      "source": [
        "# Setting up a histogram for item weight\n",
        "df['Item_Weight'].hist(bins='auto')\n",
        "plt.xlabel('Weight')\n",
        "plt.ylabel('Count')\n",
        "plt.title('Item Weight')"
      ],
      "metadata": {
        "colab": {
          "base_uri": "https://localhost:8080/",
          "height": 313
        },
        "id": "n1uQIswiWoUP",
        "outputId": "331e4669-bdc2-4fd1-b7cd-e04321304ef0"
      },
      "execution_count": 13,
      "outputs": [
        {
          "output_type": "execute_result",
          "data": {
            "text/plain": [
              "Text(0.5, 1.0, 'Item Weight')"
            ]
          },
          "metadata": {},
          "execution_count": 13
        },
        {
          "output_type": "display_data",
          "data": {
            "text/plain": [
              "<Figure size 432x288 with 1 Axes>"
            ],
            "image/png": "[encoded data removed]"
          },
          "metadata": {
            "needs_background": "light"
          }
        }
      ]
    },
    {
      "cell_type": "markdown",
      "source": [
        "The histogram above shows the item weights in the bins on the x axis. The y axis shows the count of items that have that weight. This allows us to see that a majority of the items have a wight around 12.5."
      ],
      "metadata": {
        "id": "GZbA3J7SWv3W"
      }
    },
    {
      "cell_type": "code",
      "source": [
        "# Histogram of item outlet sales\n",
        "df['Item_Outlet_Sales'].hist(bins='auto')\n",
        "plt.xlabel('Sold')\n",
        "plt.ylabel('Count')\n",
        "plt.title('Outlet Sales')"
      ],
      "metadata": {
        "colab": {
          "base_uri": "https://localhost:8080/",
          "height": 313
        },
        "id": "ndh20PKiWuTT",
        "outputId": "da4b55c8-9447-49a7-ddfe-bcece13c23f7"
      },
      "execution_count": 14,
      "outputs": [
        {
          "output_type": "execute_result",
          "data": {
            "text/plain": [
              "Text(0.5, 1.0, 'Outlet Sales')"
            ]
          },
          "metadata": {},
          "execution_count": 14
        },
        {
          "output_type": "display_data",
          "data": {
            "text/plain": [
              "<Figure size 432x288 with 1 Axes>"
            ],
            "image/png": "[encoded data removed]"
          },
          "metadata": {
            "needs_background": "light"
          }
        }
      ]
    },
    {
      "cell_type": "markdown",
      "source": [
        "Data above shows the number of sales each outlet has made. The x axis is the number of items sold and the y axis is the count of store that sold that much. "
      ],
      "metadata": {
        "id": "kfdlBaLyXW93"
      }
    },
    {
      "cell_type": "code",
      "source": [
        "# Boxplot of item mrp\n",
        "df['Item_MRP'].plot(kind='box')\n",
        "plt.xlabel('MRP')\n",
        "plt.ylabel('Number of Items Count')\n",
        "plt.title('Item MRP')"
      ],
      "metadata": {
        "colab": {
          "base_uri": "https://localhost:8080/",
          "height": 314
        },
        "id": "4jDlrEmpXVRG",
        "outputId": "42686888-09b0-423e-f3fd-7a2c14cb22f9"
      },
      "execution_count": 15,
      "outputs": [
        {
          "output_type": "execute_result",
          "data": {
            "text/plain": [
              "Text(0.5, 1.0, 'Item MRP')"
            ]
          },
          "metadata": {},
          "execution_count": 15
        },
        {
          "output_type": "display_data",
          "data": {
            "text/plain": [
              "<Figure size 432x288 with 1 Axes>"
            ],
            "image/png": "[encoded data removed]"
          },
          "metadata": {
            "needs_background": "light"
          }
        }
      ]
    },
    {
      "cell_type": "markdown",
      "source": [
        "The box plot above shows the item mrp. Can see the upper extrem of 280 and lower extreme of 20. The median is 140 and the upper quartile is 180 and lower quartile is 90. We can also see that 75% of the Items MRP is greater or equal to 90."
      ],
      "metadata": {
        "id": "cul4fQi0Xn1V"
      }
    },
    {
      "cell_type": "code",
      "source": [
        "# Item MRP Heatmap\n",
        "df['Item_MRP'].head()"
      ],
      "metadata": {
        "colab": {
          "base_uri": "https://localhost:8080/"
        },
        "id": "jeNAmG9PXmpR",
        "outputId": "ed537769-4fd9-40b8-d7dc-88e217a23d3b"
      },
      "execution_count": 16,
      "outputs": [
        {
          "output_type": "execute_result",
          "data": {
            "text/plain": [
              "0    249.8092\n",
              "1     48.2692\n",
              "2    141.6180\n",
              "3    182.0950\n",
              "4     53.8614\n",
              "Name: Item_MRP, dtype: float64"
            ]
          },
          "metadata": {},
          "execution_count": 16
        }
      ]
    },
    {
      "cell_type": "code",
      "source": [
        "# Setting up correlation\n",
        "corr = df.corr()"
      ],
      "metadata": {
        "id": "4rKn1WwXYMDz"
      },
      "execution_count": 17,
      "outputs": []
    },
    {
      "cell_type": "code",
      "source": [
        "# Graphing heatmap\n",
        "sns.heatmap(corr, cmap = 'Blues', annot= True)"
      ],
      "metadata": {
        "colab": {
          "base_uri": "https://localhost:8080/",
          "height": 410
        },
        "id": "KNSZ3gHpYQW2",
        "outputId": "3ea9de00-9f25-459f-bc6c-3e31742c2c59"
      },
      "execution_count": 18,
      "outputs": [
        {
          "output_type": "execute_result",
          "data": {
            "text/plain": [
              "<matplotlib.axes._subplots.AxesSubplot at 0x7f74d5b0cf10>"
            ]
          },
          "metadata": {},
          "execution_count": 18
        },
        {
          "output_type": "display_data",
          "data": {
            "text/plain": [
              "<Figure size 432x288 with 2 Axes>"
            ],
            "image/png": "[encoded data removed]"
          },
          "metadata": {
            "needs_background": "light"
          }
        }
      ]
    },
    {
      "cell_type": "markdown",
      "source": [
        "The heat map above shows the correlation between all the columns. Where each 1 we see a strong correlation between the data sets. We also can see there are a few negative correlations that are week and a few moderate postive correlations in the visualization. "
      ],
      "metadata": {
        "id": "Sd5RXR7mYYIF"
      }
    },
    {
      "cell_type": "markdown",
      "source": [
        "# Data Trend Visualization"
      ],
      "metadata": {
        "id": "TG9AenmWZFYe"
      }
    },
    {
      "cell_type": "code",
      "source": [
        "# Get outlet sale grouped by outlet establishment year\n",
        "numberUniqueOutlet = df.groupby(['Outlet_Establishment_Year'])['Item_Outlet_Sales'].nunique()"
      ],
      "metadata": {
        "id": "lIOhkrtGYWqh"
      },
      "execution_count": 19,
      "outputs": []
    },
    {
      "cell_type": "code",
      "source": [
        "# This is a panda series\n",
        "numberUniqueOutlet"
      ],
      "metadata": {
        "colab": {
          "base_uri": "https://localhost:8080/"
        },
        "id": "tQFkiGgIauq8",
        "outputId": "d20cf67c-7341-45eb-8bf3-889e636a9d31"
      },
      "execution_count": 20,
      "outputs": [
        {
          "output_type": "execute_result",
          "data": {
            "text/plain": [
              "Outlet_Establishment_Year\n",
              "1985    1183\n",
              "1987     788\n",
              "1997     778\n",
              "1998     391\n",
              "1999     785\n",
              "2002     776\n",
              "2004     806\n",
              "2007     777\n",
              "2009     779\n",
              "Name: Item_Outlet_Sales, dtype: int64"
            ]
          },
          "metadata": {},
          "execution_count": 20
        }
      ]
    },
    {
      "cell_type": "code",
      "source": [
        "# Getting list of years\n",
        "uniqueYear = list(numberUniqueOutlet.index)\n",
        "uniqueYear"
      ],
      "metadata": {
        "colab": {
          "base_uri": "https://localhost:8080/"
        },
        "id": "UuQuEilYazrt",
        "outputId": "7b04cd73-7275-418b-884d-aef4cceea8bd"
      },
      "execution_count": 21,
      "outputs": [
        {
          "output_type": "execute_result",
          "data": {
            "text/plain": [
              "[1985, 1987, 1997, 1998, 1999, 2002, 2004, 2007, 2009]"
            ]
          },
          "metadata": {},
          "execution_count": 21
        }
      ]
    },
    {
      "cell_type": "code",
      "source": [
        "# Geting list of outlet sales\n",
        "numOutletSales = list(numberUniqueOutlet.values)\n",
        "numOutletSales"
      ],
      "metadata": {
        "colab": {
          "base_uri": "https://localhost:8080/"
        },
        "id": "tXR3q8pva9JP",
        "outputId": "94d3ec65-3603-4f42-c83d-9db319a92524"
      },
      "execution_count": 22,
      "outputs": [
        {
          "output_type": "execute_result",
          "data": {
            "text/plain": [
              "[1183, 788, 778, 391, 785, 776, 806, 777, 779]"
            ]
          },
          "metadata": {},
          "execution_count": 22
        }
      ]
    },
    {
      "cell_type": "code",
      "source": [
        "plt.style.use('seaborn')\n",
        "plt.plot(uniqueYear,numOutletSales, marker = '.', markersize = 10)\n",
        "plt.xlim(left=1980, right=2015)\n",
        "plt.ylim( bottom=0, top=1500)\n",
        "plt.xlabel('Year', fontsize = 16)\n",
        "plt.ylabel('Sales', fontsize = 16)\n",
        "plt.title('Outlet Establishment/Sales', fontsize = 20)\n",
        "plt.legend()\n",
        "\n"
      ],
      "metadata": {
        "colab": {
          "base_uri": "https://localhost:8080/",
          "height": 424
        },
        "id": "_yORz8G5bdIb",
        "outputId": "3881ba71-bc13-4349-81c0-8baf11bee06c"
      },
      "execution_count": 24,
      "outputs": [
        {
          "output_type": "stream",
          "name": "stderr",
          "text": [
            "No handles with labels found to put in legend.\n"
          ]
        },
        {
          "output_type": "execute_result",
          "data": {
            "text/plain": [
              "<matplotlib.legend.Legend at 0x7f74d320b090>"
            ]
          },
          "metadata": {},
          "execution_count": 24
        },
        {
          "output_type": "display_data",
          "data": {
            "text/plain": [
              "<Figure size 576x396 with 1 Axes>"
            ],
            "image/png": "[encoded data removed]"
          },
          "metadata": {}
        }
      ]
    },
    {
      "cell_type": "markdown",
      "source": [
        "This graph above shows the year the outlet was established on the x axis and number of sales on they y axis. We can see the more outlet established the sales dropped from 1985 to 1987. They leveled off some from 1987 to 1997 then dropped agaain. After that we see an increase in sales with a fairly consistent growth or equal sales following. "
      ],
      "metadata": {
        "id": "pDxn7QZ_b9mh"
      }
    },
    {
      "cell_type": "code",
      "source": [
        "# Three variable bar plot\n",
        "sns.barplot(data= df, x='Item_Outlet_Sales', y='Item_Type', hue='Item_Fat_Content')\n",
        "plt.xlabel('weight',fontsize=16)\n",
        "plt.ylabel('type', fontsize=16)\n",
        "plt.title('Item Type Weight and Fat Content', fontsize= 20)\n",
        "plt.legend(bbox_to_anchor=(1,1))"
      ],
      "metadata": {
        "colab": {
          "base_uri": "https://localhost:8080/",
          "height": 405
        },
        "id": "Zy2SGhGgtcxM",
        "outputId": "0b9db974-936e-40ba-e167-ae2bf655da6e"
      },
      "execution_count": 37,
      "outputs": [
        {
          "output_type": "execute_result",
          "data": {
            "text/plain": [
              "<matplotlib.legend.Legend at 0x7f74d0726590>"
            ]
          },
          "metadata": {},
          "execution_count": 37
        },
        {
          "output_type": "display_data",
          "data": {
            "text/plain": [
              "<Figure size 576x396 with 1 Axes>"
            ],
            "image/png": "[encoded data removed]"
          },
          "metadata": {}
        }
      ]
    },
    {
      "cell_type": "markdown",
      "source": [
        "The bar graph above shows item outlet sales on the x axis and the item type on the y axis. The Blue is low fat and the green is regular fat. It allows us to see the sales of items based on the type of fat content. This graph will let us know which items sell better by fat type and how many of each item is sold. for example for seafood we can see that the regular sells better than the low fat by a large amount. "
      ],
      "metadata": {
        "id": "hTmIBliGwoWg"
      }
    },
    {
      "cell_type": "code",
      "source": [
        ""
      ],
      "metadata": {
        "id": "0tW2U39ctJOu"
      },
      "execution_count": null,
      "outputs": []
    }
  ]
}